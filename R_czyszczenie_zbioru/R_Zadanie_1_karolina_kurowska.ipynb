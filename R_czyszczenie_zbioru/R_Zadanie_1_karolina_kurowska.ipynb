{
  "nbformat": 4,
  "nbformat_minor": 0,
  "metadata": {
    "colab": {
      "provenance": []
    },
    "kernelspec": {
      "name": "ir",
      "display_name": "R"
    },
    "language_info": {
      "name": "R"
    }
  },
  "cells": [
    {
      "cell_type": "markdown",
      "metadata": {
        "id": "uiTeLffHNoSA"
      },
      "source": [
        "#Zadanie 1"
      ]
    },
    {
      "cell_type": "markdown",
      "source": [
        "##Utwórz kopię pliku na swoim dysku google. Zmień nazwę na R_Zadanie_1_imię_nazwisko.jpynb"
      ],
      "metadata": {
        "id": "ZukjDlYsI2jp"
      }
    },
    {
      "cell_type": "markdown",
      "metadata": {
        "id": "pfrBly4cax1u"
      },
      "source": [
        "Analiza dotyczy zbioru danych, który zawiera informacje na temat batonów czekoladowych.\\\n",
        "Zmiennne:\n",
        "* nazwa firmy produkującej batony czekoladowe\n",
        "* pochodzenie ziaren kakaowych lub nazwa batonu\n",
        "* numer referencyjny\n",
        "* rok przeglądu\n",
        "* procentowa zawartość kako w czekoladzie\n",
        "* lokalizacja firmy produkującej czekoladę\n",
        "* ocena batonu czekoladowego\n",
        "* pochodzenie ziaren kakaowca\n",
        "\n",
        "System oceny smaków kakao:\\\n",
        "5= Elita (Przekraczanie poza zwykłe granice)\\\n",
        "4= Premium (Doskonały rozwój smaku, charakteru i stylu)\\\n",
        "3 = zadowalający (3,0) do godnego pochwały (3,75) (dobrze wykonany, o specjalnych właściwościach)\\\n",
        "2= Rozczarowujący (Zadowalający, ale zawiera co najmniej jedną istotną wadę)\\\n",
        "1= Nieprzyjemny (przeważnie niesmaczny)\\\n",
        "REF – wartość powiązana z datą wprowadzenia recenzji do bazy danych. Wyższy = nowszy."
      ]
    },
    {
      "cell_type": "markdown",
      "source": [
        "##Wczytaj zbiór danych znajdujący sie pod adresem:\n",
        "https://raw.githubusercontent.com/clauswilke/dviz.supp/master/data-raw/cacao/flavors_of_cacao.csv"
      ],
      "metadata": {
        "id": "QMIMVuuJlhLZ"
      }
    },
    {
      "cell_type": "code",
      "source": [
        "url = \"https://raw.githubusercontent.com/clauswilke/dviz.supp/master/data-raw/cacao/flavors_of_cacao.csv\"\n",
        "df2 = read.csv(url)\n",
        "head(df2,8)"
      ],
      "metadata": {
        "id": "fFKXjBSzlte2",
        "outputId": "33dba0f4-6087-445d-be93-116153561837",
        "colab": {
          "base_uri": "https://localhost:8080/",
          "height": 369
        }
      },
      "execution_count": 12,
      "outputs": [
        {
          "output_type": "display_data",
          "data": {
            "text/html": [
              "<table class=\"dataframe\">\n",
              "<caption>A data.frame: 8 × 9</caption>\n",
              "<thead>\n",
              "\t<tr><th></th><th scope=col>Company...Maker.if.known.</th><th scope=col>Specific.Bean.Origin.or.Bar.Name</th><th scope=col>REF</th><th scope=col>Review.Date</th><th scope=col>Cocoa.Percent</th><th scope=col>Company.Location</th><th scope=col>Rating</th><th scope=col>Bean.Type</th><th scope=col>Broad.Bean.Origin</th></tr>\n",
              "\t<tr><th></th><th scope=col>&lt;chr&gt;</th><th scope=col>&lt;chr&gt;</th><th scope=col>&lt;int&gt;</th><th scope=col>&lt;int&gt;</th><th scope=col>&lt;chr&gt;</th><th scope=col>&lt;chr&gt;</th><th scope=col>&lt;dbl&gt;</th><th scope=col>&lt;chr&gt;</th><th scope=col>&lt;chr&gt;</th></tr>\n",
              "</thead>\n",
              "<tbody>\n",
              "\t<tr><th scope=row>1</th><td>A. Morin</td><td>Agua Grande </td><td>1876</td><td>2016</td><td>63%</td><td>France</td><td>3.75</td><td>       </td><td>Sao Tome </td></tr>\n",
              "\t<tr><th scope=row>2</th><td>A. Morin</td><td>Kpime       </td><td>1676</td><td>2015</td><td>70%</td><td>France</td><td>2.75</td><td>       </td><td>Togo     </td></tr>\n",
              "\t<tr><th scope=row>3</th><td>A. Morin</td><td>Atsane      </td><td>1676</td><td>2015</td><td>70%</td><td>France</td><td>3.00</td><td>       </td><td>Togo     </td></tr>\n",
              "\t<tr><th scope=row>4</th><td>A. Morin</td><td>Akata       </td><td>1680</td><td>2015</td><td>70%</td><td>France</td><td>3.50</td><td>       </td><td>Togo     </td></tr>\n",
              "\t<tr><th scope=row>5</th><td>A. Morin</td><td>Quilla      </td><td>1704</td><td>2015</td><td>70%</td><td>France</td><td>3.50</td><td>       </td><td>Peru     </td></tr>\n",
              "\t<tr><th scope=row>6</th><td>A. Morin</td><td>Carenero    </td><td>1315</td><td>2014</td><td>70%</td><td>France</td><td>2.75</td><td>Criollo</td><td>Venezuela</td></tr>\n",
              "\t<tr><th scope=row>7</th><td>A. Morin</td><td>Cuba        </td><td>1315</td><td>2014</td><td>70%</td><td>France</td><td>3.50</td><td>       </td><td>Cuba     </td></tr>\n",
              "\t<tr><th scope=row>8</th><td>A. Morin</td><td>Sur del Lago</td><td>1315</td><td>2014</td><td>70%</td><td>France</td><td>3.50</td><td>Criollo</td><td>Venezuela</td></tr>\n",
              "</tbody>\n",
              "</table>\n"
            ],
            "text/markdown": "\nA data.frame: 8 × 9\n\n| <!--/--> | Company...Maker.if.known. &lt;chr&gt; | Specific.Bean.Origin.or.Bar.Name &lt;chr&gt; | REF &lt;int&gt; | Review.Date &lt;int&gt; | Cocoa.Percent &lt;chr&gt; | Company.Location &lt;chr&gt; | Rating &lt;dbl&gt; | Bean.Type &lt;chr&gt; | Broad.Bean.Origin &lt;chr&gt; |\n|---|---|---|---|---|---|---|---|---|---|\n| 1 | A. Morin | Agua Grande  | 1876 | 2016 | 63% | France | 3.75 |         | Sao Tome  |\n| 2 | A. Morin | Kpime        | 1676 | 2015 | 70% | France | 2.75 |         | Togo      |\n| 3 | A. Morin | Atsane       | 1676 | 2015 | 70% | France | 3.00 |         | Togo      |\n| 4 | A. Morin | Akata        | 1680 | 2015 | 70% | France | 3.50 |         | Togo      |\n| 5 | A. Morin | Quilla       | 1704 | 2015 | 70% | France | 3.50 |         | Peru      |\n| 6 | A. Morin | Carenero     | 1315 | 2014 | 70% | France | 2.75 | Criollo | Venezuela |\n| 7 | A. Morin | Cuba         | 1315 | 2014 | 70% | France | 3.50 |         | Cuba      |\n| 8 | A. Morin | Sur del Lago | 1315 | 2014 | 70% | France | 3.50 | Criollo | Venezuela |\n\n",
            "text/latex": "A data.frame: 8 × 9\n\\begin{tabular}{r|lllllllll}\n  & Company...Maker.if.known. & Specific.Bean.Origin.or.Bar.Name & REF & Review.Date & Cocoa.Percent & Company.Location & Rating & Bean.Type & Broad.Bean.Origin\\\\\n  & <chr> & <chr> & <int> & <int> & <chr> & <chr> & <dbl> & <chr> & <chr>\\\\\n\\hline\n\t1 & A. Morin & Agua Grande  & 1876 & 2016 & 63\\% & France & 3.75 &         & Sao Tome \\\\\n\t2 & A. Morin & Kpime        & 1676 & 2015 & 70\\% & France & 2.75 &         & Togo     \\\\\n\t3 & A. Morin & Atsane       & 1676 & 2015 & 70\\% & France & 3.00 &         & Togo     \\\\\n\t4 & A. Morin & Akata        & 1680 & 2015 & 70\\% & France & 3.50 &         & Togo     \\\\\n\t5 & A. Morin & Quilla       & 1704 & 2015 & 70\\% & France & 3.50 &         & Peru     \\\\\n\t6 & A. Morin & Carenero     & 1315 & 2014 & 70\\% & France & 2.75 & Criollo & Venezuela\\\\\n\t7 & A. Morin & Cuba         & 1315 & 2014 & 70\\% & France & 3.50 &         & Cuba     \\\\\n\t8 & A. Morin & Sur del Lago & 1315 & 2014 & 70\\% & France & 3.50 & Criollo & Venezuela\\\\\n\\end{tabular}\n",
            "text/plain": [
              "  Company...Maker.if.known. Specific.Bean.Origin.or.Bar.Name REF  Review.Date\n",
              "1 A. Morin                  Agua Grande                      1876 2016       \n",
              "2 A. Morin                  Kpime                            1676 2015       \n",
              "3 A. Morin                  Atsane                           1676 2015       \n",
              "4 A. Morin                  Akata                            1680 2015       \n",
              "5 A. Morin                  Quilla                           1704 2015       \n",
              "6 A. Morin                  Carenero                         1315 2014       \n",
              "7 A. Morin                  Cuba                             1315 2014       \n",
              "8 A. Morin                  Sur del Lago                     1315 2014       \n",
              "  Cocoa.Percent Company.Location Rating Bean.Type Broad.Bean.Origin\n",
              "1 63%           France           3.75             Sao Tome         \n",
              "2 70%           France           2.75             Togo             \n",
              "3 70%           France           3.00             Togo             \n",
              "4 70%           France           3.50             Togo             \n",
              "5 70%           France           3.50             Peru             \n",
              "6 70%           France           2.75   Criollo   Venezuela        \n",
              "7 70%           France           3.50             Cuba             \n",
              "8 70%           France           3.50   Criollo   Venezuela        "
            ]
          },
          "metadata": {}
        }
      ]
    },
    {
      "cell_type": "markdown",
      "source": [
        "## Zaimportuj pakiet Tidiverse"
      ],
      "metadata": {
        "id": "kaUnrW215Dy8"
      }
    },
    {
      "cell_type": "code",
      "source": [
        "library(tidyverse)"
      ],
      "metadata": {
        "id": "G_ABdTgDB14Y"
      },
      "execution_count": 13,
      "outputs": []
    },
    {
      "cell_type": "markdown",
      "metadata": {
        "id": "mnyTdf7Jq-jF"
      },
      "source": [
        "## Przygotowanie danych"
      ]
    },
    {
      "cell_type": "markdown",
      "source": [
        "Wczytaj dane zmieniając nazwy kolumn na:\\\n",
        "'Company', 'Specific_Bean_Origin_or_Bar_Name', 'REF','Review_Date', 'Cocoa_Percentage', 'Company_Location','Rating', 'Bean_Type', 'Broad_Bean_Origin'"
      ],
      "metadata": {
        "id": "7IgJWBLn15eX"
      }
    },
    {
      "cell_type": "code",
      "source": [
        "names(df2) <- c('Company', 'Specific_Bean_Origin_or_Bar_Name', 'REF', 'Review_Date',\n",
        "                'Cocoa_Percentage', 'Company_Location', 'Rating', 'Bean_Type', 'Broad_Bean_Origin')\n",
        "                head(df2)"
      ],
      "metadata": {
        "colab": {
          "base_uri": "https://localhost:8080/",
          "height": 306
        },
        "outputId": "25532cb1-180d-47e6-eb20-b5f19b4e3f34",
        "id": "SpABnAbBB8Og"
      },
      "execution_count": 14,
      "outputs": [
        {
          "output_type": "display_data",
          "data": {
            "text/html": [
              "<table class=\"dataframe\">\n",
              "<caption>A data.frame: 6 × 9</caption>\n",
              "<thead>\n",
              "\t<tr><th></th><th scope=col>Company</th><th scope=col>Specific_Bean_Origin_or_Bar_Name</th><th scope=col>REF</th><th scope=col>Review_Date</th><th scope=col>Cocoa_Percentage</th><th scope=col>Company_Location</th><th scope=col>Rating</th><th scope=col>Bean_Type</th><th scope=col>Broad_Bean_Origin</th></tr>\n",
              "\t<tr><th></th><th scope=col>&lt;chr&gt;</th><th scope=col>&lt;chr&gt;</th><th scope=col>&lt;int&gt;</th><th scope=col>&lt;int&gt;</th><th scope=col>&lt;chr&gt;</th><th scope=col>&lt;chr&gt;</th><th scope=col>&lt;dbl&gt;</th><th scope=col>&lt;chr&gt;</th><th scope=col>&lt;chr&gt;</th></tr>\n",
              "</thead>\n",
              "<tbody>\n",
              "\t<tr><th scope=row>1</th><td>A. Morin</td><td>Agua Grande</td><td>1876</td><td>2016</td><td>63%</td><td>France</td><td>3.75</td><td>       </td><td>Sao Tome </td></tr>\n",
              "\t<tr><th scope=row>2</th><td>A. Morin</td><td>Kpime      </td><td>1676</td><td>2015</td><td>70%</td><td>France</td><td>2.75</td><td>       </td><td>Togo     </td></tr>\n",
              "\t<tr><th scope=row>3</th><td>A. Morin</td><td>Atsane     </td><td>1676</td><td>2015</td><td>70%</td><td>France</td><td>3.00</td><td>       </td><td>Togo     </td></tr>\n",
              "\t<tr><th scope=row>4</th><td>A. Morin</td><td>Akata      </td><td>1680</td><td>2015</td><td>70%</td><td>France</td><td>3.50</td><td>       </td><td>Togo     </td></tr>\n",
              "\t<tr><th scope=row>5</th><td>A. Morin</td><td>Quilla     </td><td>1704</td><td>2015</td><td>70%</td><td>France</td><td>3.50</td><td>       </td><td>Peru     </td></tr>\n",
              "\t<tr><th scope=row>6</th><td>A. Morin</td><td>Carenero   </td><td>1315</td><td>2014</td><td>70%</td><td>France</td><td>2.75</td><td>Criollo</td><td>Venezuela</td></tr>\n",
              "</tbody>\n",
              "</table>\n"
            ],
            "text/markdown": "\nA data.frame: 6 × 9\n\n| <!--/--> | Company &lt;chr&gt; | Specific_Bean_Origin_or_Bar_Name &lt;chr&gt; | REF &lt;int&gt; | Review_Date &lt;int&gt; | Cocoa_Percentage &lt;chr&gt; | Company_Location &lt;chr&gt; | Rating &lt;dbl&gt; | Bean_Type &lt;chr&gt; | Broad_Bean_Origin &lt;chr&gt; |\n|---|---|---|---|---|---|---|---|---|---|\n| 1 | A. Morin | Agua Grande | 1876 | 2016 | 63% | France | 3.75 |         | Sao Tome  |\n| 2 | A. Morin | Kpime       | 1676 | 2015 | 70% | France | 2.75 |         | Togo      |\n| 3 | A. Morin | Atsane      | 1676 | 2015 | 70% | France | 3.00 |         | Togo      |\n| 4 | A. Morin | Akata       | 1680 | 2015 | 70% | France | 3.50 |         | Togo      |\n| 5 | A. Morin | Quilla      | 1704 | 2015 | 70% | France | 3.50 |         | Peru      |\n| 6 | A. Morin | Carenero    | 1315 | 2014 | 70% | France | 2.75 | Criollo | Venezuela |\n\n",
            "text/latex": "A data.frame: 6 × 9\n\\begin{tabular}{r|lllllllll}\n  & Company & Specific\\_Bean\\_Origin\\_or\\_Bar\\_Name & REF & Review\\_Date & Cocoa\\_Percentage & Company\\_Location & Rating & Bean\\_Type & Broad\\_Bean\\_Origin\\\\\n  & <chr> & <chr> & <int> & <int> & <chr> & <chr> & <dbl> & <chr> & <chr>\\\\\n\\hline\n\t1 & A. Morin & Agua Grande & 1876 & 2016 & 63\\% & France & 3.75 &         & Sao Tome \\\\\n\t2 & A. Morin & Kpime       & 1676 & 2015 & 70\\% & France & 2.75 &         & Togo     \\\\\n\t3 & A. Morin & Atsane      & 1676 & 2015 & 70\\% & France & 3.00 &         & Togo     \\\\\n\t4 & A. Morin & Akata       & 1680 & 2015 & 70\\% & France & 3.50 &         & Togo     \\\\\n\t5 & A. Morin & Quilla      & 1704 & 2015 & 70\\% & France & 3.50 &         & Peru     \\\\\n\t6 & A. Morin & Carenero    & 1315 & 2014 & 70\\% & France & 2.75 & Criollo & Venezuela\\\\\n\\end{tabular}\n",
            "text/plain": [
              "  Company  Specific_Bean_Origin_or_Bar_Name REF  Review_Date Cocoa_Percentage\n",
              "1 A. Morin Agua Grande                      1876 2016        63%             \n",
              "2 A. Morin Kpime                            1676 2015        70%             \n",
              "3 A. Morin Atsane                           1676 2015        70%             \n",
              "4 A. Morin Akata                            1680 2015        70%             \n",
              "5 A. Morin Quilla                           1704 2015        70%             \n",
              "6 A. Morin Carenero                         1315 2014        70%             \n",
              "  Company_Location Rating Bean_Type Broad_Bean_Origin\n",
              "1 France           3.75             Sao Tome         \n",
              "2 France           2.75             Togo             \n",
              "3 France           3.00             Togo             \n",
              "4 France           3.50             Togo             \n",
              "5 France           3.50             Peru             \n",
              "6 France           2.75   Criollo   Venezuela        "
            ]
          },
          "metadata": {}
        }
      ]
    },
    {
      "cell_type": "markdown",
      "source": [
        "Wyświtl \"kształt\" zbioru - liczba wierszy i kolumn"
      ],
      "metadata": {
        "id": "RN_ApCUO2Mqb"
      }
    },
    {
      "cell_type": "code",
      "source": [
        "dim(df2)"
      ],
      "metadata": {
        "colab": {
          "base_uri": "https://localhost:8080/",
          "height": 34
        },
        "outputId": "2380b186-53c7-4aa4-88f4-e6bba00955d2",
        "id": "LfT_xIwFCcEU"
      },
      "execution_count": 15,
      "outputs": [
        {
          "output_type": "display_data",
          "data": {
            "text/html": [
              "<style>\n",
              ".list-inline {list-style: none; margin:0; padding: 0}\n",
              ".list-inline>li {display: inline-block}\n",
              ".list-inline>li:not(:last-child)::after {content: \"\\00b7\"; padding: 0 .5ex}\n",
              "</style>\n",
              "<ol class=list-inline><li>1795</li><li>9</li></ol>\n"
            ],
            "text/markdown": "1. 1795\n2. 9\n\n\n",
            "text/latex": "\\begin{enumerate*}\n\\item 1795\n\\item 9\n\\end{enumerate*}\n",
            "text/plain": [
              "[1] 1795    9"
            ]
          },
          "metadata": {}
        }
      ]
    },
    {
      "cell_type": "markdown",
      "source": [
        "Wyświetl strukturę zbioru danych (nazwy zmiennych\n",
        ", typ danych, ...)"
      ],
      "metadata": {
        "id": "TiFgtOg51-MS"
      }
    },
    {
      "cell_type": "code",
      "source": [
        "str(df2)"
      ],
      "metadata": {
        "id": "57ecawuCmRah",
        "outputId": "b1bff4cb-ff2e-4134-f8dc-c62a447f0970",
        "colab": {
          "base_uri": "https://localhost:8080/"
        }
      },
      "execution_count": 16,
      "outputs": [
        {
          "output_type": "stream",
          "name": "stdout",
          "text": [
            "'data.frame':\t1795 obs. of  9 variables:\n",
            " $ Company                         : chr  \"A. Morin\" \"A. Morin\" \"A. Morin\" \"A. Morin\" ...\n",
            " $ Specific_Bean_Origin_or_Bar_Name: chr  \"Agua Grande\" \"Kpime\" \"Atsane\" \"Akata\" ...\n",
            " $ REF                             : int  1876 1676 1676 1680 1704 1315 1315 1315 1319 1319 ...\n",
            " $ Review_Date                     : int  2016 2015 2015 2015 2015 2014 2014 2014 2014 2014 ...\n",
            " $ Cocoa_Percentage                : chr  \"63%\" \"70%\" \"70%\" \"70%\" ...\n",
            " $ Company_Location                : chr  \"France\" \"France\" \"France\" \"France\" ...\n",
            " $ Rating                          : num  3.75 2.75 3 3.5 3.5 2.75 3.5 3.5 3.75 4 ...\n",
            " $ Bean_Type                       : chr  \" \" \" \" \" \" \" \" ...\n",
            " $ Broad_Bean_Origin               : chr  \"Sao Tome\" \"Togo\" \"Togo\" \"Togo\" ...\n"
          ]
        }
      ]
    },
    {
      "cell_type": "markdown",
      "source": [
        "Usuń znak \"%\" w zmiennej procent Cocoa_Percentage - ustaw odpowiednio typ danej\n"
      ],
      "metadata": {
        "id": "Lq5YSs8T2XWU"
      }
    },
    {
      "cell_type": "code",
      "source": [
        "df2$Cocoa_Percentage\n",
        "df2$Cocoa_Percentage=as.numeric(gsub(\"%\", \"\", df2$Cocoa_Percentage))\n",
        "df2$Cocoa_Percentage"
      ],
      "metadata": {
        "id": "dcYIu2YbC7Zj",
        "colab": {
          "base_uri": "https://localhost:8080/",
          "height": 538
        },
        "outputId": "57c397c7-5612-440f-d10e-dfa3ff288328"
      },
      "execution_count": 17,
      "outputs": [
        {
          "output_type": "display_data",
          "data": {
            "text/html": [
              "<style>\n",
              ".list-inline {list-style: none; margin:0; padding: 0}\n",
              ".list-inline>li {display: inline-block}\n",
              ".list-inline>li:not(:last-child)::after {content: \"\\00b7\"; padding: 0 .5ex}\n",
              "</style>\n",
              "<ol class=list-inline><li>'63%'</li><li>'70%'</li><li>'70%'</li><li>'70%'</li><li>'70%'</li><li>'70%'</li><li>'70%'</li><li>'70%'</li><li>'70%'</li><li>'70%'</li><li>'70%'</li><li>'70%'</li><li>'70%'</li><li>'70%'</li><li>'70%'</li><li>'70%'</li><li>'70%'</li><li>'70%'</li><li>'70%'</li><li>'70%'</li><li>'63%'</li><li>'70%'</li><li>'63%'</li><li>'70%'</li><li>'70%'</li><li>'60%'</li><li>'80%'</li><li>'88%'</li><li>'72%'</li><li>'55%'</li><li>'70%'</li><li>'70%'</li><li>'75%'</li><li>'75%'</li><li>'75%'</li><li>'65%'</li><li>'75%'</li><li>'75%'</li><li>'75%'</li><li>'75%'</li><li>'70%'</li><li>'70%'</li><li>'70%'</li><li>'70%'</li><li>'60%'</li><li>'60%'</li><li>'60%'</li><li>'60%'</li><li>'60%'</li><li>'60%'</li><li>'60%'</li><li>'80%'</li><li>'60%'</li><li>'60%'</li><li>'70%'</li><li>'70%'</li><li>'70%'</li><li>'70%'</li><li>'70%'</li><li>'70%'</li><li>'70%'</li><li>'70%'</li><li>'70%'</li><li>'70%'</li><li>'70%'</li><li>'85%'</li><li>'85%'</li><li>'72%'</li><li>'73%'</li><li>'64%'</li><li>'66%'</li><li>'75%'</li><li>'63%'</li><li>'70%'</li><li>'68%'</li><li>'70%'</li><li>'70%'</li><li>'75%'</li><li>'70%'</li><li>'70%'</li><li>'70%'</li><li>'70%'</li><li>'70%'</li><li>'70%'</li><li>'70%'</li><li>'63%'</li><li>'70%'</li><li>'66%'</li><li>'75%'</li><li>'85%'</li><li>'50%'</li><li>'75%'</li><li>'60%'</li><li>'75%'</li><li>'75%'</li><li>'75%'</li><li>'72%'</li><li>'75%'</li><li>'75%'</li><li>'70%'</li><li>'70%'</li><li>'73%'</li><li>'70%'</li><li>'70%'</li><li>'70%'</li><li>'70%'</li><li>'70%'</li><li>'70%'</li><li>'70%'</li><li>'70%'</li><li>'70%'</li><li>'73%'</li><li>'70%'</li><li>'68%'</li><li>'70%'</li><li>'70%'</li><li>'70%'</li><li>'70%'</li><li>'75%'</li><li>'70%'</li><li>'75%'</li><li>'72%'</li><li>'72%'</li><li>'72%'</li><li>'72%'</li><li>'100%'</li><li>'72%'</li><li>'72%'</li><li>'72%'</li><li>'72%'</li><li>'75%'</li><li>'72%'</li><li>'72%'</li><li>'80%'</li><li>'75%'</li><li>'72%'</li><li>'72%'</li><li>'72%'</li><li>'68%'</li><li>'72%'</li><li>'70%'</li><li>'77%'</li><li>'75%'</li><li>'70%'</li><li>'80%'</li><li>'70%'</li><li>'70%'</li><li>'70%'</li><li>'70%'</li><li>'70%'</li><li>'70%'</li><li>'70%'</li><li>'70%'</li><li>'70%'</li><li>'70%'</li><li>'70%'</li><li>'80%'</li><li>'65%'</li><li>'70%'</li><li>'65%'</li><li>'73%'</li><li>'72%'</li><li>'80%'</li><li>'70%'</li><li>'70%'</li><li>'90%'</li><li>'64%'</li><li>'64%'</li><li>'64%'</li><li>'71%'</li><li>'70%'</li><li>'70%'</li><li>'70%'</li><li>'83%'</li><li>'78%'</li><li>'83%'</li><li>'74%'</li><li>'74%'</li><li>'74%'</li><li>'73%'</li><li>'72%'</li><li>'72%'</li><li>'55%'</li><li>'64%'</li><li>'88%'</li><li>'72%'</li><li>'72%'</li><li>'70%'</li><li>'74%'</li><li>'64%'</li><li>'72%'</li><li>'76%'</li><li>'76%'</li><li>'78%'</li><li>'86%'</li><li>'72%'</li><li>'75%'</li><li>'70%'</li><li>'65%'</li><li>'70%'</li><li>⋯</li><li>'88%'</li><li>'70%'</li><li>'70%'</li><li>'70%'</li><li>'70%'</li><li>'70%'</li><li>'70%'</li><li>'70%'</li><li>'70%'</li><li>'70%'</li><li>'70%'</li><li>'70%'</li><li>'70%'</li><li>'70%'</li><li>'70%'</li><li>'70%'</li><li>'70%'</li><li>'70%'</li><li>'70%'</li><li>'62%'</li><li>'60%'</li><li>'77%'</li><li>'70%'</li><li>'68%'</li><li>'87%'</li><li>'75%'</li><li>'70%'</li><li>'62%'</li><li>'99%'</li><li>'60%'</li><li>'68%'</li><li>'70%'</li><li>'70%'</li><li>'70%'</li><li>'70%'</li><li>'70%'</li><li>'70%'</li><li>'70%'</li><li>'70%'</li><li>'70%'</li><li>'70%'</li><li>'70%'</li><li>'70%'</li><li>'70%'</li><li>'70%'</li><li>'70%'</li><li>'80%'</li><li>'67%'</li><li>'70%'</li><li>'70%'</li><li>'70%'</li><li>'70%'</li><li>'70%'</li><li>'70%'</li><li>'70%'</li><li>'77%'</li><li>'67%'</li><li>'73%'</li><li>'70%'</li><li>'65%'</li><li>'65%'</li><li>'75%'</li><li>'84%'</li><li>'91%'</li><li>'75%'</li><li>'70%'</li><li>'72%'</li><li>'81%'</li><li>'70%'</li><li>'77%'</li><li>'72%'</li><li>'74%'</li><li>'72%'</li><li>'72%'</li><li>'75%'</li><li>'75%'</li><li>'75%'</li><li>'68%'</li><li>'75%'</li><li>'73%'</li><li>'60%'</li><li>'63%'</li><li>'74%'</li><li>'70%'</li><li>'72%'</li><li>'72%'</li><li>'65%'</li><li>'63%'</li><li>'70%'</li><li>'64%'</li><li>'69%'</li><li>'56%'</li><li>'64%'</li><li>'64%'</li><li>'66%'</li><li>'68%'</li><li>'72%'</li><li>'65%'</li><li>'64%'</li><li>'85%'</li><li>'85%'</li><li>'71%'</li><li>'64%'</li><li>'66%'</li><li>'70%'</li><li>'64%'</li><li>'64%'</li><li>'64%'</li><li>'72%'</li><li>'65%'</li><li>'72%'</li><li>'76%'</li><li>'80%'</li><li>'70%'</li><li>'68%'</li><li>'64%'</li><li>'70%'</li><li>'70%'</li><li>'90%'</li><li>'75%'</li><li>'75%'</li><li>'90%'</li><li>'70%'</li><li>'70%'</li><li>'75%'</li><li>'100%'</li><li>'90%'</li><li>'75%'</li><li>'65%'</li><li>'77%'</li><li>'77%'</li><li>'77%'</li><li>'77%'</li><li>'77%'</li><li>'70%'</li><li>'70%'</li><li>'70%'</li><li>'70%'</li><li>'70%'</li><li>'72%'</li><li>'75%'</li><li>'89%'</li><li>'75%'</li><li>'75%'</li><li>'70%'</li><li>'88%'</li><li>'100%'</li><li>'71%'</li><li>'72%'</li><li>'69%'</li><li>'70%'</li><li>'72%'</li><li>'74%'</li><li>'76%'</li><li>'75%'</li><li>'70%'</li><li>'70%'</li><li>'70%'</li><li>'70%'</li><li>'70%'</li><li>'70%'</li><li>'70%'</li><li>'70%'</li><li>'66%'</li><li>'70%'</li><li>'70%'</li><li>'70%'</li><li>'70%'</li><li>'70%'</li><li>'70%'</li><li>'70%'</li><li>'60%'</li><li>'70%'</li><li>'70%'</li><li>'85%'</li><li>'85%'</li><li>'70%'</li><li>'78%'</li><li>'78%'</li><li>'65%'</li><li>'68%'</li><li>'66%'</li><li>'72%'</li><li>'80%'</li><li>'72%'</li><li>'65%'</li><li>'70%'</li><li>'70%'</li><li>'62%'</li><li>'75%'</li><li>'75%'</li><li>'90%'</li><li>'70%'</li><li>'68%'</li><li>'58%'</li><li>'70%'</li><li>'65%'</li><li>'65%'</li><li>'62%'</li><li>'65%'</li></ol>\n"
            ],
            "text/markdown": "1. '63%'\n2. '70%'\n3. '70%'\n4. '70%'\n5. '70%'\n6. '70%'\n7. '70%'\n8. '70%'\n9. '70%'\n10. '70%'\n11. '70%'\n12. '70%'\n13. '70%'\n14. '70%'\n15. '70%'\n16. '70%'\n17. '70%'\n18. '70%'\n19. '70%'\n20. '70%'\n21. '63%'\n22. '70%'\n23. '63%'\n24. '70%'\n25. '70%'\n26. '60%'\n27. '80%'\n28. '88%'\n29. '72%'\n30. '55%'\n31. '70%'\n32. '70%'\n33. '75%'\n34. '75%'\n35. '75%'\n36. '65%'\n37. '75%'\n38. '75%'\n39. '75%'\n40. '75%'\n41. '70%'\n42. '70%'\n43. '70%'\n44. '70%'\n45. '60%'\n46. '60%'\n47. '60%'\n48. '60%'\n49. '60%'\n50. '60%'\n51. '60%'\n52. '80%'\n53. '60%'\n54. '60%'\n55. '70%'\n56. '70%'\n57. '70%'\n58. '70%'\n59. '70%'\n60. '70%'\n61. '70%'\n62. '70%'\n63. '70%'\n64. '70%'\n65. '70%'\n66. '85%'\n67. '85%'\n68. '72%'\n69. '73%'\n70. '64%'\n71. '66%'\n72. '75%'\n73. '63%'\n74. '70%'\n75. '68%'\n76. '70%'\n77. '70%'\n78. '75%'\n79. '70%'\n80. '70%'\n81. '70%'\n82. '70%'\n83. '70%'\n84. '70%'\n85. '70%'\n86. '63%'\n87. '70%'\n88. '66%'\n89. '75%'\n90. '85%'\n91. '50%'\n92. '75%'\n93. '60%'\n94. '75%'\n95. '75%'\n96. '75%'\n97. '72%'\n98. '75%'\n99. '75%'\n100. '70%'\n101. '70%'\n102. '73%'\n103. '70%'\n104. '70%'\n105. '70%'\n106. '70%'\n107. '70%'\n108. '70%'\n109. '70%'\n110. '70%'\n111. '70%'\n112. '73%'\n113. '70%'\n114. '68%'\n115. '70%'\n116. '70%'\n117. '70%'\n118. '70%'\n119. '75%'\n120. '70%'\n121. '75%'\n122. '72%'\n123. '72%'\n124. '72%'\n125. '72%'\n126. '100%'\n127. '72%'\n128. '72%'\n129. '72%'\n130. '72%'\n131. '75%'\n132. '72%'\n133. '72%'\n134. '80%'\n135. '75%'\n136. '72%'\n137. '72%'\n138. '72%'\n139. '68%'\n140. '72%'\n141. '70%'\n142. '77%'\n143. '75%'\n144. '70%'\n145. '80%'\n146. '70%'\n147. '70%'\n148. '70%'\n149. '70%'\n150. '70%'\n151. '70%'\n152. '70%'\n153. '70%'\n154. '70%'\n155. '70%'\n156. '70%'\n157. '80%'\n158. '65%'\n159. '70%'\n160. '65%'\n161. '73%'\n162. '72%'\n163. '80%'\n164. '70%'\n165. '70%'\n166. '90%'\n167. '64%'\n168. '64%'\n169. '64%'\n170. '71%'\n171. '70%'\n172. '70%'\n173. '70%'\n174. '83%'\n175. '78%'\n176. '83%'\n177. '74%'\n178. '74%'\n179. '74%'\n180. '73%'\n181. '72%'\n182. '72%'\n183. '55%'\n184. '64%'\n185. '88%'\n186. '72%'\n187. '72%'\n188. '70%'\n189. '74%'\n190. '64%'\n191. '72%'\n192. '76%'\n193. '76%'\n194. '78%'\n195. '86%'\n196. '72%'\n197. '75%'\n198. '70%'\n199. '65%'\n200. '70%'\n201. ⋯\n202. '88%'\n203. '70%'\n204. '70%'\n205. '70%'\n206. '70%'\n207. '70%'\n208. '70%'\n209. '70%'\n210. '70%'\n211. '70%'\n212. '70%'\n213. '70%'\n214. '70%'\n215. '70%'\n216. '70%'\n217. '70%'\n218. '70%'\n219. '70%'\n220. '70%'\n221. '62%'\n222. '60%'\n223. '77%'\n224. '70%'\n225. '68%'\n226. '87%'\n227. '75%'\n228. '70%'\n229. '62%'\n230. '99%'\n231. '60%'\n232. '68%'\n233. '70%'\n234. '70%'\n235. '70%'\n236. '70%'\n237. '70%'\n238. '70%'\n239. '70%'\n240. '70%'\n241. '70%'\n242. '70%'\n243. '70%'\n244. '70%'\n245. '70%'\n246. '70%'\n247. '70%'\n248. '80%'\n249. '67%'\n250. '70%'\n251. '70%'\n252. '70%'\n253. '70%'\n254. '70%'\n255. '70%'\n256. '70%'\n257. '77%'\n258. '67%'\n259. '73%'\n260. '70%'\n261. '65%'\n262. '65%'\n263. '75%'\n264. '84%'\n265. '91%'\n266. '75%'\n267. '70%'\n268. '72%'\n269. '81%'\n270. '70%'\n271. '77%'\n272. '72%'\n273. '74%'\n274. '72%'\n275. '72%'\n276. '75%'\n277. '75%'\n278. '75%'\n279. '68%'\n280. '75%'\n281. '73%'\n282. '60%'\n283. '63%'\n284. '74%'\n285. '70%'\n286. '72%'\n287. '72%'\n288. '65%'\n289. '63%'\n290. '70%'\n291. '64%'\n292. '69%'\n293. '56%'\n294. '64%'\n295. '64%'\n296. '66%'\n297. '68%'\n298. '72%'\n299. '65%'\n300. '64%'\n301. '85%'\n302. '85%'\n303. '71%'\n304. '64%'\n305. '66%'\n306. '70%'\n307. '64%'\n308. '64%'\n309. '64%'\n310. '72%'\n311. '65%'\n312. '72%'\n313. '76%'\n314. '80%'\n315. '70%'\n316. '68%'\n317. '64%'\n318. '70%'\n319. '70%'\n320. '90%'\n321. '75%'\n322. '75%'\n323. '90%'\n324. '70%'\n325. '70%'\n326. '75%'\n327. '100%'\n328. '90%'\n329. '75%'\n330. '65%'\n331. '77%'\n332. '77%'\n333. '77%'\n334. '77%'\n335. '77%'\n336. '70%'\n337. '70%'\n338. '70%'\n339. '70%'\n340. '70%'\n341. '72%'\n342. '75%'\n343. '89%'\n344. '75%'\n345. '75%'\n346. '70%'\n347. '88%'\n348. '100%'\n349. '71%'\n350. '72%'\n351. '69%'\n352. '70%'\n353. '72%'\n354. '74%'\n355. '76%'\n356. '75%'\n357. '70%'\n358. '70%'\n359. '70%'\n360. '70%'\n361. '70%'\n362. '70%'\n363. '70%'\n364. '70%'\n365. '66%'\n366. '70%'\n367. '70%'\n368. '70%'\n369. '70%'\n370. '70%'\n371. '70%'\n372. '70%'\n373. '60%'\n374. '70%'\n375. '70%'\n376. '85%'\n377. '85%'\n378. '70%'\n379. '78%'\n380. '78%'\n381. '65%'\n382. '68%'\n383. '66%'\n384. '72%'\n385. '80%'\n386. '72%'\n387. '65%'\n388. '70%'\n389. '70%'\n390. '62%'\n391. '75%'\n392. '75%'\n393. '90%'\n394. '70%'\n395. '68%'\n396. '58%'\n397. '70%'\n398. '65%'\n399. '65%'\n400. '62%'\n401. '65%'\n\n\n",
            "text/latex": "\\begin{enumerate*}\n\\item '63\\%'\n\\item '70\\%'\n\\item '70\\%'\n\\item '70\\%'\n\\item '70\\%'\n\\item '70\\%'\n\\item '70\\%'\n\\item '70\\%'\n\\item '70\\%'\n\\item '70\\%'\n\\item '70\\%'\n\\item '70\\%'\n\\item '70\\%'\n\\item '70\\%'\n\\item '70\\%'\n\\item '70\\%'\n\\item '70\\%'\n\\item '70\\%'\n\\item '70\\%'\n\\item '70\\%'\n\\item '63\\%'\n\\item '70\\%'\n\\item '63\\%'\n\\item '70\\%'\n\\item '70\\%'\n\\item '60\\%'\n\\item '80\\%'\n\\item '88\\%'\n\\item '72\\%'\n\\item '55\\%'\n\\item '70\\%'\n\\item '70\\%'\n\\item '75\\%'\n\\item '75\\%'\n\\item '75\\%'\n\\item '65\\%'\n\\item '75\\%'\n\\item '75\\%'\n\\item '75\\%'\n\\item '75\\%'\n\\item '70\\%'\n\\item '70\\%'\n\\item '70\\%'\n\\item '70\\%'\n\\item '60\\%'\n\\item '60\\%'\n\\item '60\\%'\n\\item '60\\%'\n\\item '60\\%'\n\\item '60\\%'\n\\item '60\\%'\n\\item '80\\%'\n\\item '60\\%'\n\\item '60\\%'\n\\item '70\\%'\n\\item '70\\%'\n\\item '70\\%'\n\\item '70\\%'\n\\item '70\\%'\n\\item '70\\%'\n\\item '70\\%'\n\\item '70\\%'\n\\item '70\\%'\n\\item '70\\%'\n\\item '70\\%'\n\\item '85\\%'\n\\item '85\\%'\n\\item '72\\%'\n\\item '73\\%'\n\\item '64\\%'\n\\item '66\\%'\n\\item '75\\%'\n\\item '63\\%'\n\\item '70\\%'\n\\item '68\\%'\n\\item '70\\%'\n\\item '70\\%'\n\\item '75\\%'\n\\item '70\\%'\n\\item '70\\%'\n\\item '70\\%'\n\\item '70\\%'\n\\item '70\\%'\n\\item '70\\%'\n\\item '70\\%'\n\\item '63\\%'\n\\item '70\\%'\n\\item '66\\%'\n\\item '75\\%'\n\\item '85\\%'\n\\item '50\\%'\n\\item '75\\%'\n\\item '60\\%'\n\\item '75\\%'\n\\item '75\\%'\n\\item '75\\%'\n\\item '72\\%'\n\\item '75\\%'\n\\item '75\\%'\n\\item '70\\%'\n\\item '70\\%'\n\\item '73\\%'\n\\item '70\\%'\n\\item '70\\%'\n\\item '70\\%'\n\\item '70\\%'\n\\item '70\\%'\n\\item '70\\%'\n\\item '70\\%'\n\\item '70\\%'\n\\item '70\\%'\n\\item '73\\%'\n\\item '70\\%'\n\\item '68\\%'\n\\item '70\\%'\n\\item '70\\%'\n\\item '70\\%'\n\\item '70\\%'\n\\item '75\\%'\n\\item '70\\%'\n\\item '75\\%'\n\\item '72\\%'\n\\item '72\\%'\n\\item '72\\%'\n\\item '72\\%'\n\\item '100\\%'\n\\item '72\\%'\n\\item '72\\%'\n\\item '72\\%'\n\\item '72\\%'\n\\item '75\\%'\n\\item '72\\%'\n\\item '72\\%'\n\\item '80\\%'\n\\item '75\\%'\n\\item '72\\%'\n\\item '72\\%'\n\\item '72\\%'\n\\item '68\\%'\n\\item '72\\%'\n\\item '70\\%'\n\\item '77\\%'\n\\item '75\\%'\n\\item '70\\%'\n\\item '80\\%'\n\\item '70\\%'\n\\item '70\\%'\n\\item '70\\%'\n\\item '70\\%'\n\\item '70\\%'\n\\item '70\\%'\n\\item '70\\%'\n\\item '70\\%'\n\\item '70\\%'\n\\item '70\\%'\n\\item '70\\%'\n\\item '80\\%'\n\\item '65\\%'\n\\item '70\\%'\n\\item '65\\%'\n\\item '73\\%'\n\\item '72\\%'\n\\item '80\\%'\n\\item '70\\%'\n\\item '70\\%'\n\\item '90\\%'\n\\item '64\\%'\n\\item '64\\%'\n\\item '64\\%'\n\\item '71\\%'\n\\item '70\\%'\n\\item '70\\%'\n\\item '70\\%'\n\\item '83\\%'\n\\item '78\\%'\n\\item '83\\%'\n\\item '74\\%'\n\\item '74\\%'\n\\item '74\\%'\n\\item '73\\%'\n\\item '72\\%'\n\\item '72\\%'\n\\item '55\\%'\n\\item '64\\%'\n\\item '88\\%'\n\\item '72\\%'\n\\item '72\\%'\n\\item '70\\%'\n\\item '74\\%'\n\\item '64\\%'\n\\item '72\\%'\n\\item '76\\%'\n\\item '76\\%'\n\\item '78\\%'\n\\item '86\\%'\n\\item '72\\%'\n\\item '75\\%'\n\\item '70\\%'\n\\item '65\\%'\n\\item '70\\%'\n\\item ⋯\n\\item '88\\%'\n\\item '70\\%'\n\\item '70\\%'\n\\item '70\\%'\n\\item '70\\%'\n\\item '70\\%'\n\\item '70\\%'\n\\item '70\\%'\n\\item '70\\%'\n\\item '70\\%'\n\\item '70\\%'\n\\item '70\\%'\n\\item '70\\%'\n\\item '70\\%'\n\\item '70\\%'\n\\item '70\\%'\n\\item '70\\%'\n\\item '70\\%'\n\\item '70\\%'\n\\item '62\\%'\n\\item '60\\%'\n\\item '77\\%'\n\\item '70\\%'\n\\item '68\\%'\n\\item '87\\%'\n\\item '75\\%'\n\\item '70\\%'\n\\item '62\\%'\n\\item '99\\%'\n\\item '60\\%'\n\\item '68\\%'\n\\item '70\\%'\n\\item '70\\%'\n\\item '70\\%'\n\\item '70\\%'\n\\item '70\\%'\n\\item '70\\%'\n\\item '70\\%'\n\\item '70\\%'\n\\item '70\\%'\n\\item '70\\%'\n\\item '70\\%'\n\\item '70\\%'\n\\item '70\\%'\n\\item '70\\%'\n\\item '70\\%'\n\\item '80\\%'\n\\item '67\\%'\n\\item '70\\%'\n\\item '70\\%'\n\\item '70\\%'\n\\item '70\\%'\n\\item '70\\%'\n\\item '70\\%'\n\\item '70\\%'\n\\item '77\\%'\n\\item '67\\%'\n\\item '73\\%'\n\\item '70\\%'\n\\item '65\\%'\n\\item '65\\%'\n\\item '75\\%'\n\\item '84\\%'\n\\item '91\\%'\n\\item '75\\%'\n\\item '70\\%'\n\\item '72\\%'\n\\item '81\\%'\n\\item '70\\%'\n\\item '77\\%'\n\\item '72\\%'\n\\item '74\\%'\n\\item '72\\%'\n\\item '72\\%'\n\\item '75\\%'\n\\item '75\\%'\n\\item '75\\%'\n\\item '68\\%'\n\\item '75\\%'\n\\item '73\\%'\n\\item '60\\%'\n\\item '63\\%'\n\\item '74\\%'\n\\item '70\\%'\n\\item '72\\%'\n\\item '72\\%'\n\\item '65\\%'\n\\item '63\\%'\n\\item '70\\%'\n\\item '64\\%'\n\\item '69\\%'\n\\item '56\\%'\n\\item '64\\%'\n\\item '64\\%'\n\\item '66\\%'\n\\item '68\\%'\n\\item '72\\%'\n\\item '65\\%'\n\\item '64\\%'\n\\item '85\\%'\n\\item '85\\%'\n\\item '71\\%'\n\\item '64\\%'\n\\item '66\\%'\n\\item '70\\%'\n\\item '64\\%'\n\\item '64\\%'\n\\item '64\\%'\n\\item '72\\%'\n\\item '65\\%'\n\\item '72\\%'\n\\item '76\\%'\n\\item '80\\%'\n\\item '70\\%'\n\\item '68\\%'\n\\item '64\\%'\n\\item '70\\%'\n\\item '70\\%'\n\\item '90\\%'\n\\item '75\\%'\n\\item '75\\%'\n\\item '90\\%'\n\\item '70\\%'\n\\item '70\\%'\n\\item '75\\%'\n\\item '100\\%'\n\\item '90\\%'\n\\item '75\\%'\n\\item '65\\%'\n\\item '77\\%'\n\\item '77\\%'\n\\item '77\\%'\n\\item '77\\%'\n\\item '77\\%'\n\\item '70\\%'\n\\item '70\\%'\n\\item '70\\%'\n\\item '70\\%'\n\\item '70\\%'\n\\item '72\\%'\n\\item '75\\%'\n\\item '89\\%'\n\\item '75\\%'\n\\item '75\\%'\n\\item '70\\%'\n\\item '88\\%'\n\\item '100\\%'\n\\item '71\\%'\n\\item '72\\%'\n\\item '69\\%'\n\\item '70\\%'\n\\item '72\\%'\n\\item '74\\%'\n\\item '76\\%'\n\\item '75\\%'\n\\item '70\\%'\n\\item '70\\%'\n\\item '70\\%'\n\\item '70\\%'\n\\item '70\\%'\n\\item '70\\%'\n\\item '70\\%'\n\\item '70\\%'\n\\item '66\\%'\n\\item '70\\%'\n\\item '70\\%'\n\\item '70\\%'\n\\item '70\\%'\n\\item '70\\%'\n\\item '70\\%'\n\\item '70\\%'\n\\item '60\\%'\n\\item '70\\%'\n\\item '70\\%'\n\\item '85\\%'\n\\item '85\\%'\n\\item '70\\%'\n\\item '78\\%'\n\\item '78\\%'\n\\item '65\\%'\n\\item '68\\%'\n\\item '66\\%'\n\\item '72\\%'\n\\item '80\\%'\n\\item '72\\%'\n\\item '65\\%'\n\\item '70\\%'\n\\item '70\\%'\n\\item '62\\%'\n\\item '75\\%'\n\\item '75\\%'\n\\item '90\\%'\n\\item '70\\%'\n\\item '68\\%'\n\\item '58\\%'\n\\item '70\\%'\n\\item '65\\%'\n\\item '65\\%'\n\\item '62\\%'\n\\item '65\\%'\n\\end{enumerate*}\n",
            "text/plain": [
              "   [1] \"63%\"   \"70%\"   \"70%\"   \"70%\"   \"70%\"   \"70%\"   \"70%\"   \"70%\"   \"70%\"  \n",
              "  [10] \"70%\"   \"70%\"   \"70%\"   \"70%\"   \"70%\"   \"70%\"   \"70%\"   \"70%\"   \"70%\"  \n",
              "  [19] \"70%\"   \"70%\"   \"63%\"   \"70%\"   \"63%\"   \"70%\"   \"70%\"   \"60%\"   \"80%\"  \n",
              "  [28] \"88%\"   \"72%\"   \"55%\"   \"70%\"   \"70%\"   \"75%\"   \"75%\"   \"75%\"   \"65%\"  \n",
              "  [37] \"75%\"   \"75%\"   \"75%\"   \"75%\"   \"70%\"   \"70%\"   \"70%\"   \"70%\"   \"60%\"  \n",
              "  [46] \"60%\"   \"60%\"   \"60%\"   \"60%\"   \"60%\"   \"60%\"   \"80%\"   \"60%\"   \"60%\"  \n",
              "  [55] \"70%\"   \"70%\"   \"70%\"   \"70%\"   \"70%\"   \"70%\"   \"70%\"   \"70%\"   \"70%\"  \n",
              "  [64] \"70%\"   \"70%\"   \"85%\"   \"85%\"   \"72%\"   \"73%\"   \"64%\"   \"66%\"   \"75%\"  \n",
              "  [73] \"63%\"   \"70%\"   \"68%\"   \"70%\"   \"70%\"   \"75%\"   \"70%\"   \"70%\"   \"70%\"  \n",
              "  [82] \"70%\"   \"70%\"   \"70%\"   \"70%\"   \"63%\"   \"70%\"   \"66%\"   \"75%\"   \"85%\"  \n",
              "  [91] \"50%\"   \"75%\"   \"60%\"   \"75%\"   \"75%\"   \"75%\"   \"72%\"   \"75%\"   \"75%\"  \n",
              " [100] \"70%\"   \"70%\"   \"73%\"   \"70%\"   \"70%\"   \"70%\"   \"70%\"   \"70%\"   \"70%\"  \n",
              " [109] \"70%\"   \"70%\"   \"70%\"   \"73%\"   \"70%\"   \"68%\"   \"70%\"   \"70%\"   \"70%\"  \n",
              " [118] \"70%\"   \"75%\"   \"70%\"   \"75%\"   \"72%\"   \"72%\"   \"72%\"   \"72%\"   \"100%\" \n",
              " [127] \"72%\"   \"72%\"   \"72%\"   \"72%\"   \"75%\"   \"72%\"   \"72%\"   \"80%\"   \"75%\"  \n",
              " [136] \"72%\"   \"72%\"   \"72%\"   \"68%\"   \"72%\"   \"70%\"   \"77%\"   \"75%\"   \"70%\"  \n",
              " [145] \"80%\"   \"70%\"   \"70%\"   \"70%\"   \"70%\"   \"70%\"   \"70%\"   \"70%\"   \"70%\"  \n",
              " [154] \"70%\"   \"70%\"   \"70%\"   \"80%\"   \"65%\"   \"70%\"   \"65%\"   \"73%\"   \"72%\"  \n",
              " [163] \"80%\"   \"70%\"   \"70%\"   \"90%\"   \"64%\"   \"64%\"   \"64%\"   \"71%\"   \"70%\"  \n",
              " [172] \"70%\"   \"70%\"   \"83%\"   \"78%\"   \"83%\"   \"74%\"   \"74%\"   \"74%\"   \"73%\"  \n",
              " [181] \"72%\"   \"72%\"   \"55%\"   \"64%\"   \"88%\"   \"72%\"   \"72%\"   \"70%\"   \"74%\"  \n",
              " [190] \"64%\"   \"72%\"   \"76%\"   \"76%\"   \"78%\"   \"86%\"   \"72%\"   \"75%\"   \"70%\"  \n",
              " [199] \"65%\"   \"70%\"   \"78%\"   \"75%\"   \"65%\"   \"75%\"   \"65%\"   \"71%\"   \"75%\"  \n",
              " [208] \"68%\"   \"70%\"   \"70%\"   \"70%\"   \"70%\"   \"70%\"   \"82%\"   \"72%\"   \"82%\"  \n",
              " [217] \"75%\"   \"75%\"   \"75%\"   \"70%\"   \"70%\"   \"75%\"   \"75%\"   \"75%\"   \"65%\"  \n",
              " [226] \"75%\"   \"75%\"   \"75%\"   \"75%\"   \"75%\"   \"75%\"   \"75%\"   \"75%\"   \"75%\"  \n",
              " [235] \"75%\"   \"75%\"   \"75%\"   \"75%\"   \"75%\"   \"75%\"   \"75%\"   \"75%\"   \"75%\"  \n",
              " [244] \"75%\"   \"75%\"   \"100%\"  \"75%\"   \"75%\"   \"77%\"   \"100%\"  \"70%\"   \"70%\"  \n",
              " [253] \"70%\"   \"70%\"   \"68%\"   \"70%\"   \"70%\"   \"72%\"   \"70%\"   \"75%\"   \"85%\"  \n",
              " [262] \"60%\"   \"80%\"   \"70%\"   \"80%\"   \"80%\"   \"60%\"   \"70%\"   \"72%\"   \"70%\"  \n",
              " [271] \"72%\"   \"68%\"   \"70%\"   \"68%\"   \"72%\"   \"72%\"   \"72%\"   \"72%\"   \"60%\"  \n",
              " [280] \"70%\"   \"75%\"   \"75%\"   \"75%\"   \"75%\"   \"65%\"   \"70%\"   \"75%\"   \"72%\"  \n",
              " [289] \"66%\"   \"77%\"   \"75%\"   \"75%\"   \"74%\"   \"75%\"   \"70%\"   \"74%\"   \"71%\"  \n",
              " [298] \"74%\"   \"72%\"   \"64%\"   \"70%\"   \"69%\"   \"70%\"   \"70%\"   \"72%\"   \"72%\"  \n",
              " [307] \"66%\"   \"65%\"   \"70%\"   \"71%\"   \"71%\"   \"71%\"   \"71%\"   \"71%\"   \"77%\"  \n",
              " [316] \"70%\"   \"70%\"   \"70%\"   \"70%\"   \"70%\"   \"70%\"   \"63%\"   \"71%\"   \"82%\"  \n",
              " [325] \"91%\"   \"60%\"   \"70%\"   \"75%\"   \"72%\"   \"70%\"   \"100%\"  \"80%\"   \"78%\"  \n",
              " [334] \"70%\"   \"75%\"   \"73%\"   \"70%\"   \"75%\"   \"70%\"   \"77%\"   \"77%\"   \"77%\"  \n",
              " [343] \"55%\"   \"55%\"   \"55%\"   \"70%\"   \"70%\"   \"72%\"   \"72%\"   \"72%\"   \"72%\"  \n",
              " [352] \"80%\"   \"65%\"   \"65%\"   \"65%\"   \"65%\"   \"65%\"   \"72%\"   \"72%\"   \"70%\"  \n",
              " [361] \"72%\"   \"72%\"   \"76%\"   \"70%\"   \"70%\"   \"73%\"   \"70%\"   \"70%\"   \"72%\"  \n",
              " [370] \"70%\"   \"72%\"   \"70%\"   \"70%\"   \"70%\"   \"70%\"   \"72%\"   \"70%\"   \"70%\"  \n",
              " [379] \"55%\"   \"75%\"   \"70%\"   \"70%\"   \"70%\"   \"75%\"   \"82%\"   \"70%\"   \"70%\"  \n",
              " [388] \"65%\"   \"65%\"   \"80%\"   \"70%\"   \"68%\"   \"90%\"   \"80%\"   \"70%\"   \"70%\"  \n",
              " [397] \"60%\"   \"75%\"   \"80%\"   \"70%\"   \"80%\"   \"74%\"   \"75%\"   \"68%\"   \"80%\"  \n",
              " [406] \"69%\"   \"80%\"   \"70%\"   \"82%\"   \"68%\"   \"72%\"   \"70%\"   \"77%\"   \"65%\"  \n",
              " [415] \"71%\"   \"71%\"   \"60%\"   \"75%\"   \"71%\"   \"71%\"   \"71%\"   \"70%\"   \"65%\"  \n",
              " [424] \"75%\"   \"80%\"   \"70%\"   \"70%\"   \"80%\"   \"70%\"   \"42%\"   \"75%\"   \"68%\"  \n",
              " [433] \"61%\"   \"77%\"   \"73.5%\" \"80%\"   \"75%\"   \"100%\"  \"73%\"   \"75%\"   \"70%\"  \n",
              " [442] \"80%\"   \"72%\"   \"70%\"   \"88%\"   \"76%\"   \"78%\"   \"65%\"   \"85%\"   \"100%\" \n",
              " [451] \"72%\"   \"70%\"   \"72%\"   \"70%\"   \"72%\"   \"72%\"   \"72%\"   \"72%\"   \"72%\"  \n",
              " [460] \"62%\"   \"70%\"   \"70%\"   \"72%\"   \"72%\"   \"72%\"   \"70%\"   \"70%\"   \"83%\"  \n",
              " [469] \"75%\"   \"65%\"   \"67%\"   \"64%\"   \"75%\"   \"85%\"   \"73%\"   \"70%\"   \"70%\"  \n",
              " [478] \"72%\"   \"70%\"   \"70%\"   \"70%\"   \"70%\"   \"70%\"   \"70%\"   \"70%\"   \"70%\"  \n",
              " [487] \"70%\"   \"70%\"   \"70%\"   \"70%\"   \"70%\"   \"70%\"   \"70%\"   \"70%\"   \"70%\"  \n",
              " [496] \"70%\"   \"70%\"   \"70%\"   \"82%\"   \"75%\"   \"70%\"   \"70%\"   \"70%\"   \"70%\"  \n",
              " [505] \"60%\"   \"75%\"   \"60%\"   \"72%\"   \"72%\"   \"70%\"   \"75%\"   \"70%\"   \"70%\"  \n",
              " [514] \"70%\"   \"70%\"   \"70%\"   \"70%\"   \"70%\"   \"58%\"   \"72%\"   \"65%\"   \"70%\"  \n",
              " [523] \"70%\"   \"66%\"   \"64%\"   \"71%\"   \"60%\"   \"64%\"   \"64%\"   \"64%\"   \"66%\"  \n",
              " [532] \"72%\"   \"80%\"   \"77%\"   \"77%\"   \"70%\"   \"78%\"   \"70%\"   \"74%\"   \"70%\"  \n",
              " [541] \"76%\"   \"75%\"   \"72%\"   \"80%\"   \"72%\"   \"75%\"   \"74%\"   \"70%\"   \"85%\"  \n",
              " [550] \"72%\"   \"72%\"   \"72%\"   \"70%\"   \"88%\"   \"70%\"   \"70%\"   \"70%\"   \"100%\" \n",
              " [559] \"70%\"   \"70%\"   \"70%\"   \"70%\"   \"70%\"   \"70%\"   \"78%\"   \"70%\"   \"70%\"  \n",
              " [568] \"75%\"   \"60%\"   \"70%\"   \"70%\"   \"70%\"   \"70%\"   \"70%\"   \"70%\"   \"70%\"  \n",
              " [577] \"70%\"   \"75%\"   \"70%\"   \"80%\"   \"77%\"   \"70%\"   \"70%\"   \"76%\"   \"72%\"  \n",
              " [586] \"72%\"   \"65%\"   \"72%\"   \"71%\"   \"71%\"   \"70%\"   \"72%\"   \"70%\"   \"70%\"  \n",
              " [595] \"70%\"   \"82%\"   \"70%\"   \"70%\"   \"70%\"   \"70%\"   \"70%\"   \"70%\"   \"70%\"  \n",
              " [604] \"70%\"   \"70%\"   \"70%\"   \"72%\"   \"68%\"   \"75%\"   \"71%\"   \"70%\"   \"60.5%\"\n",
              " [613] \"70%\"   \"74%\"   \"58%\"   \"61%\"   \"70%\"   \"60%\"   \"70%\"   \"79%\"   \"78%\"  \n",
              " [622] \"75%\"   \"80%\"   \"70%\"   \"80%\"   \"74%\"   \"70%\"   \"65%\"   \"81%\"   \"74%\"  \n",
              " [631] \"72%\"   \"55%\"   \"55%\"   \"70%\"   \"62%\"   \"62%\"   \"80%\"   \"80%\"   \"80%\"  \n",
              " [640] \"75%\"   \"76%\"   \"76%\"   \"76%\"   \"58%\"   \"62%\"   \"74%\"   \"64%\"   \"65%\"  \n",
              " [649] \"72%\"   \"68%\"   \"65%\"   \"80%\"   \"70%\"   \"85%\"   \"72%\"   \"70%\"   \"80%\"  \n",
              " [658] \"70%\"   \"75%\"   \"67%\"   \"70%\"   \"70%\"   \"70%\"   \"60%\"   \"70%\"   \"75%\"  \n",
              " [667] \"80%\"   \"60%\"   \"65%\"   \"70%\"   \"73%\"   \"80%\"   \"68%\"   \"66%\"   \"70%\"  \n",
              " [676] \"61%\"   \"81%\"   \"70%\"   \"65%\"   \"70%\"   \"70%\"   \"70%\"   \"70%\"   \"72%\"  \n",
              " [685] \"72%\"   \"70%\"   \"70%\"   \"69%\"   \"69%\"   \"74%\"   \"69%\"   \"69%\"   \"74%\"  \n",
              " [694] \"70%\"   \"72%\"   \"70%\"   \"74%\"   \"72%\"   \"74%\"   \"76%\"   \"70%\"   \"80%\"  \n",
              " [703] \"70%\"   \"70%\"   \"65%\"   \"70%\"   \"60%\"   \"85%\"   \"70%\"   \"70%\"   \"70%\"  \n",
              " [712] \"70%\"   \"70%\"   \"70%\"   \"70%\"   \"70%\"   \"70%\"   \"70%\"   \"74%\"   \"74%\"  \n",
              " [721] \"70%\"   \"76%\"   \"70%\"   \"75%\"   \"70%\"   \"66%\"   \"70%\"   \"85%\"   \"65%\"  \n",
              " [730] \"70%\"   \"70%\"   \"80%\"   \"75%\"   \"70%\"   \"66%\"   \"77%\"   \"77%\"   \"77%\"  \n",
              " [739] \"72%\"   \"70%\"   \"70%\"   \"82%\"   \"60%\"   \"71%\"   \"64%\"   \"64%\"   \"64%\"  \n",
              " [748] \"76%\"   \"64%\"   \"70%\"   \"65%\"   \"65%\"   \"65%\"   \"65%\"   \"72%\"   \"61%\"  \n",
              " [757] \"72%\"   \"65%\"   \"55%\"   \"91%\"   \"70%\"   \"65%\"   \"64%\"   \"65%\"   \"72%\"  \n",
              " [766] \"65%\"   \"65%\"   \"65%\"   \"65%\"   \"61%\"   \"61%\"   \"80%\"   \"74%\"   \"75%\"  \n",
              " [775] \"70%\"   \"65%\"   \"70%\"   \"80%\"   \"66%\"   \"100%\"  \"77%\"   \"55%\"   \"70%\"  \n",
              " [784] \"70%\"   \"85%\"   \"67%\"   \"77%\"   \"74%\"   \"64%\"   \"70%\"   \"74%\"   \"67%\"  \n",
              " [793] \"67%\"   \"67%\"   \"67%\"   \"72%\"   \"70%\"   \"77%\"   \"68%\"   \"72%\"   \"57%\"  \n",
              " [802] \"74%\"   \"70%\"   \"74%\"   \"70%\"   \"73%\"   \"70%\"   \"70%\"   \"72%\"   \"75%\"  \n",
              " [811] \"66%\"   \"80%\"   \"80%\"   \"72%\"   \"58%\"   \"58%\"   \"70%\"   \"70%\"   \"70%\"  \n",
              " [820] \"70%\"   \"70%\"   \"70%\"   \"70%\"   \"70%\"   \"75%\"   \"72%\"   \"70%\"   \"70%\"  \n",
              " [829] \"100%\"  \"75%\"   \"80%\"   \"90%\"   \"72%\"   \"82%\"   \"100%\"  \"100%\"  \"100%\" \n",
              " [838] \"66%\"   \"80%\"   \"65%\"   \"65%\"   \"70%\"   \"70%\"   \"70%\"   \"72%\"   \"80%\"  \n",
              " [847] \"75%\"   \"72%\"   \"70%\"   \"70%\"   \"70%\"   \"70%\"   \"70%\"   \"70%\"   \"70%\"  \n",
              " [856] \"70%\"   \"72%\"   \"72%\"   \"72%\"   \"72%\"   \"72%\"   \"74%\"   \"72%\"   \"70%\"  \n",
              " [865] \"72%\"   \"72%\"   \"61%\"   \"70%\"   \"70%\"   \"77%\"   \"72%\"   \"72%\"   \"72%\"  \n",
              " [874] \"72%\"   \"72%\"   \"72%\"   \"70%\"   \"70%\"   \"71%\"   \"63%\"   \"70%\"   \"70%\"  \n",
              " [883] \"70%\"   \"70%\"   \"82%\"   \"55%\"   \"62%\"   \"64%\"   \"65%\"   \"70%\"   \"70%\"  \n",
              " [892] \"75%\"   \"85%\"   \"85%\"   \"85%\"   \"75%\"   \"85%\"   \"70%\"   \"80%\"   \"70%\"  \n",
              " [901] \"72%\"   \"60%\"   \"72%\"   \"72%\"   \"72%\"   \"72%\"   \"90%\"   \"72%\"   \"72%\"  \n",
              " [910] \"70%\"   \"70%\"   \"70%\"   \"70%\"   \"72.5%\" \"72.5%\" \"72.5%\" \"72.5%\" \"74%\"  \n",
              " [919] \"70%\"   \"68%\"   \"74%\"   \"75%\"   \"74%\"   \"71%\"   \"64%\"   \"68%\"   \"70%\"  \n",
              " [928] \"70%\"   \"70%\"   \"70%\"   \"74%\"   \"60%\"   \"56%\"   \"66%\"   \"68%\"   \"68%\"  \n",
              " [937] \"69%\"   \"60%\"   \"60%\"   \"74%\"   \"72%\"   \"60%\"   \"75%\"   \"75%\"   \"75%\"  \n",
              " [946] \"75%\"   \"75%\"   \"75%\"   \"75%\"   \"75%\"   \"70%\"   \"68%\"   \"70%\"   \"75%\"  \n",
              " [955] \"80%\"   \"75%\"   \"75%\"   \"72%\"   \"70%\"   \"70%\"   \"70%\"   \"70%\"   \"70%\"  \n",
              " [964] \"70%\"   \"70%\"   \"70%\"   \"70%\"   \"71%\"   \"70%\"   \"65%\"   \"68%\"   \"68%\"  \n",
              " [973] \"75%\"   \"74%\"   \"68%\"   \"85%\"   \"65%\"   \"70%\"   \"65%\"   \"75%\"   \"71%\"  \n",
              " [982] \"72%\"   \"70%\"   \"75%\"   \"46%\"   \"60%\"   \"58%\"   \"65%\"   \"70%\"   \"55%\"  \n",
              " [991] \"67%\"   \"70%\"   \"63%\"   \"75%\"   \"73%\"   \"70%\"   \"70%\"   \"70%\"   \"70%\"  \n",
              "[1000] \"70%\"   \"70%\"   \"70%\"   \"70%\"   \"70%\"   \"72%\"   \"75%\"   \"70%\"   \"70%\"  \n",
              "[1009] \"70%\"   \"70%\"   \"75%\"   \"73%\"   \"65%\"   \"55%\"   \"55%\"   \"70%\"   \"74%\"  \n",
              "[1018] \"74%\"   \"74%\"   \"74%\"   \"70%\"   \"72%\"   \"72%\"   \"72%\"   \"72%\"   \"72%\"  \n",
              "[1027] \"72%\"   \"72%\"   \"70%\"   \"70%\"   \"70%\"   \"85%\"   \"70%\"   \"70%\"   \"70%\"  \n",
              "[1036] \"75%\"   \"70%\"   \"62%\"   \"70%\"   \"70%\"   \"70%\"   \"68%\"   \"75%\"   \"72%\"  \n",
              "[1045] \"78%\"   \"70%\"   \"70%\"   \"70%\"   \"75%\"   \"85%\"   \"68%\"   \"70%\"   \"75%\"  \n",
              "[1054] \"76%\"   \"72%\"   \"70%\"   \"78%\"   \"80%\"   \"74%\"   \"65%\"   \"65%\"   \"65%\"  \n",
              "[1063] \"65%\"   \"74%\"   \"89%\"   \"76%\"   \"82%\"   \"74%\"   \"76%\"   \"74%\"   \"75%\"  \n",
              "[1072] \"73%\"   \"72%\"   \"73%\"   \"72%\"   \"76%\"   \"70%\"   \"81%\"   \"70%\"   \"71%\"  \n",
              "[1081] \"75%\"   \"73%\"   \"74%\"   \"81%\"   \"75%\"   \"70%\"   \"72%\"   \"68%\"   \"74%\"  \n",
              "[1090] \"70%\"   \"70%\"   \"70%\"   \"82%\"   \"63%\"   \"72%\"   \"70%\"   \"70%\"   \"70%\"  \n",
              "[1099] \"70%\"   \"70%\"   \"80%\"   \"72%\"   \"80%\"   \"70%\"   \"80%\"   \"70%\"   \"70%\"  \n",
              "[1108] \"80%\"   \"70%\"   \"72%\"   \"70%\"   \"66%\"   \"66%\"   \"67%\"   \"60%\"   \"85%\"  \n",
              "[1117] \"70%\"   \"67%\"   \"65%\"   \"64%\"   \"99%\"   \"80%\"   \"70%\"   \"75%\"   \"75%\"  \n",
              "[1126] \"75%\"   \"70%\"   \"75%\"   \"80%\"   \"65%\"   \"75%\"   \"70%\"   \"70%\"   \"70%\"  \n",
              "[1135] \"67%\"   \"77%\"   \"70%\"   \"75%\"   \"70%\"   \"65%\"   \"73%\"   \"72%\"   \"67%\"  \n",
              "[1144] \"70%\"   \"70%\"   \"70%\"   \"70%\"   \"70%\"   \"70%\"   \"72%\"   \"70%\"   \"70%\"  \n",
              "[1153] \"63%\"   \"85%\"   \"70%\"   \"80%\"   \"68%\"   \"71%\"   \"68%\"   \"80%\"   \"58%\"  \n",
              "[1162] \"70%\"   \"70%\"   \"78%\"   \"71%\"   \"70%\"   \"75%\"   \"70%\"   \"85%\"   \"72%\"  \n",
              "[1171] \"70%\"   \"73.5%\" \"70%\"   \"70%\"   \"67%\"   \"73%\"   \"73%\"   \"75%\"   \"71%\"  \n",
              "[1180] \"72%\"   \"72%\"   \"72%\"   \"72%\"   \"75%\"   \"75%\"   \"75%\"   \"75%\"   \"75%\"  \n",
              "[1189] \"70%\"   \"70%\"   \"70%\"   \"75%\"   \"80%\"   \"70%\"   \"70%\"   \"70%\"   \"70%\"  \n",
              "[1198] \"70%\"   \"70%\"   \"70%\"   \"70%\"   \"70%\"   \"70%\"   \"75%\"   \"100%\"  \"70%\"  \n",
              "[1207] \"66%\"   \"70%\"   \"88%\"   \"74%\"   \"70%\"   \"70%\"   \"70%\"   \"72%\"   \"72%\"  \n",
              "[1216] \"67%\"   \"75%\"   \"76%\"   \"76%\"   \"85%\"   \"85%\"   \"80%\"   \"70%\"   \"70%\"  \n",
              "[1225] \"66%\"   \"74%\"   \"72%\"   \"72%\"   \"72%\"   \"72%\"   \"68%\"   \"80%\"   \"66%\"  \n",
              "[1234] \"70%\"   \"75%\"   \"68%\"   \"60%\"   \"60%\"   \"65%\"   \"72%\"   \"70%\"   \"70%\"  \n",
              "[1243] \"70%\"   \"70%\"   \"70%\"   \"85%\"   \"70%\"   \"70%\"   \"60%\"   \"65%\"   \"72%\"  \n",
              "[1252] \"100%\"  \"70%\"   \"70%\"   \"72%\"   \"70%\"   \"70%\"   \"72%\"   \"72%\"   \"72%\"  \n",
              "[1261] \"78%\"   \"75%\"   \"75%\"   \"70%\"   \"76%\"   \"65%\"   \"70%\"   \"70%\"   \"70%\"  \n",
              "[1270] \"70%\"   \"55%\"   \"70%\"   \"70%\"   \"75%\"   \"67%\"   \"70%\"   \"70%\"   \"67%\"  \n",
              "[1279] \"73%\"   \"64%\"   \"82%\"   \"70%\"   \"75%\"   \"75%\"   \"78%\"   \"85%\"   \"72%\"  \n",
              "[1288] \"72%\"   \"70%\"   \"72%\"   \"72%\"   \"85%\"   \"72%\"   \"72%\"   \"72%\"   \"80%\"  \n",
              "[1297] \"62%\"   \"80%\"   \"80%\"   \"80%\"   \"80%\"   \"73%\"   \"73%\"   \"73%\"   \"73%\"  \n",
              "[1306] \"76%\"   \"82%\"   \"70%\"   \"70%\"   \"70%\"   \"70%\"   \"70%\"   \"70%\"   \"82%\"  \n",
              "[1315] \"75%\"   \"75%\"   \"75%\"   \"75%\"   \"75%\"   \"100%\"  \"75%\"   \"75%\"   \"75%\"  \n",
              "[1324] \"75%\"   \"75%\"   \"75%\"   \"75%\"   \"75%\"   \"75%\"   \"75%\"   \"75%\"   \"75%\"  \n",
              "[1333] \"75%\"   \"75%\"   \"75%\"   \"80%\"   \"75%\"   \"75%\"   \"75%\"   \"77%\"   \"70%\"  \n",
              "[1342] \"74%\"   \"80%\"   \"75%\"   \"75%\"   \"72%\"   \"85%\"   \"73%\"   \"75%\"   \"85%\"  \n",
              "[1351] \"55%\"   \"80%\"   \"60%\"   \"65%\"   \"70%\"   \"74%\"   \"70%\"   \"75%\"   \"75%\"  \n",
              "[1360] \"85%\"   \"70%\"   \"75%\"   \"70%\"   \"80%\"   \"73%\"   \"75%\"   \"70%\"   \"75%\"  \n",
              "[1369] \"75%\"   \"75%\"   \"67%\"   \"75%\"   \"75%\"   \"85%\"   \"70%\"   \"75%\"   \"75%\"  \n",
              "[1378] \"75%\"   \"75%\"   \"75%\"   \"75%\"   \"70%\"   \"70%\"   \"70%\"   \"75%\"   \"68%\"  \n",
              "[1387] \"66%\"   \"75%\"   \"70%\"   \"75%\"   \"80%\"   \"70%\"   \"70%\"   \"75%\"   \"75%\"  \n",
              "[1396] \"75%\"   \"75%\"   \"75%\"   \"70%\"   \"70%\"   \"70%\"   \"70%\"   \"70%\"   \"84%\"  \n",
              "[1405] \"76%\"   \"72%\"   \"73%\"   \"71%\"   \"70%\"   \"77%\"   \"64%\"   \"100%\"  \"70%\"  \n",
              "[1414] \"72%\"   \"72%\"   \"83%\"   \"69%\"   \"70%\"   \"70%\"   \"70%\"   \"70%\"   \"75%\"  \n",
              "[1423] \"70%\"   \"53%\"   \"65%\"   \"70%\"   \"70%\"   \"78%\"   \"68%\"   \"68%\"   \"65%\"  \n",
              "[1432] \"68%\"   \"65%\"   \"72%\"   \"72%\"   \"72%\"   \"62%\"   \"75%\"   \"75%\"   \"82%\"  \n",
              "[1441] \"70%\"   \"68%\"   \"70%\"   \"62%\"   \"70%\"   \"70%\"   \"72%\"   \"73%\"   \"77%\"  \n",
              "[1450] \"74%\"   \"75%\"   \"72%\"   \"73%\"   \"73%\"   \"70%\"   \"75%\"   \"82%\"   \"70%\"  \n",
              "[1459] \"70%\"   \"67%\"   \"65%\"   \"60%\"   \"68%\"   \"73%\"   \"73%\"   \"73%\"   \"100%\" \n",
              "[1468] \"100%\"  \"73%\"   \"73%\"   \"73%\"   \"67%\"   \"73%\"   \"73%\"   \"70%\"   \"72%\"  \n",
              "[1477] \"70%\"   \"70%\"   \"70%\"   \"70%\"   \"70%\"   \"67%\"   \"70%\"   \"65%\"   \"70%\"  \n",
              "[1486] \"67%\"   \"70%\"   \"72%\"   \"72%\"   \"65%\"   \"67%\"   \"70%\"   \"67%\"   \"68%\"  \n",
              "[1495] \"68%\"   \"70%\"   \"72%\"   \"68%\"   \"85%\"   \"70%\"   \"75%\"   \"70%\"   \"70%\"  \n",
              "[1504] \"70%\"   \"70%\"   \"70%\"   \"70%\"   \"62%\"   \"70%\"   \"70%\"   \"75%\"   \"70%\"  \n",
              "[1513] \"70%\"   \"70%\"   \"70%\"   \"75%\"   \"70%\"   \"70%\"   \"70%\"   \"80%\"   \"70%\"  \n",
              "[1522] \"70%\"   \"77%\"   \"70%\"   \"70%\"   \"70%\"   \"70%\"   \"70%\"   \"88%\"   \"70%\"  \n",
              "[1531] \"67%\"   \"70%\"   \"70%\"   \"70%\"   \"70%\"   \"70%\"   \"70%\"   \"70%\"   \"70%\"  \n",
              "[1540] \"70%\"   \"85%\"   \"70%\"   \"70%\"   \"64%\"   \"70%\"   \"70%\"   \"70%\"   \"70%\"  \n",
              "[1549] \"70%\"   \"70%\"   \"70%\"   \"70%\"   \"70%\"   \"70%\"   \"70%\"   \"70%\"   \"70%\"  \n",
              "[1558] \"70%\"   \"75%\"   \"75%\"   \"77%\"   \"80%\"   \"70%\"   \"80%\"   \"75%\"   \"70%\"  \n",
              "[1567] \"70%\"   \"70%\"   \"70%\"   \"70%\"   \"70%\"   \"72%\"   \"70%\"   \"70%\"   \"84%\"  \n",
              "[1576] \"70%\"   \"70%\"   \"70%\"   \"70%\"   \"70%\"   \"68%\"   \"72%\"   \"84%\"   \"70%\"  \n",
              "[1585] \"65%\"   \"70%\"   \"75%\"   \"67%\"   \"78%\"   \"61%\"   \"71%\"   \"70%\"   \"60%\"  \n",
              "[1594] \"70%\"   \"70%\"   \"88%\"   \"70%\"   \"70%\"   \"70%\"   \"70%\"   \"70%\"   \"70%\"  \n",
              "[1603] \"70%\"   \"70%\"   \"70%\"   \"70%\"   \"70%\"   \"70%\"   \"70%\"   \"70%\"   \"70%\"  \n",
              "[1612] \"70%\"   \"70%\"   \"70%\"   \"62%\"   \"60%\"   \"77%\"   \"70%\"   \"68%\"   \"87%\"  \n",
              "[1621] \"75%\"   \"70%\"   \"62%\"   \"99%\"   \"60%\"   \"68%\"   \"70%\"   \"70%\"   \"70%\"  \n",
              "[1630] \"70%\"   \"70%\"   \"70%\"   \"70%\"   \"70%\"   \"70%\"   \"70%\"   \"70%\"   \"70%\"  \n",
              "[1639] \"70%\"   \"70%\"   \"70%\"   \"80%\"   \"67%\"   \"70%\"   \"70%\"   \"70%\"   \"70%\"  \n",
              "[1648] \"70%\"   \"70%\"   \"70%\"   \"77%\"   \"67%\"   \"73%\"   \"70%\"   \"65%\"   \"65%\"  \n",
              "[1657] \"75%\"   \"84%\"   \"91%\"   \"75%\"   \"70%\"   \"72%\"   \"81%\"   \"70%\"   \"77%\"  \n",
              "[1666] \"72%\"   \"74%\"   \"72%\"   \"72%\"   \"75%\"   \"75%\"   \"75%\"   \"68%\"   \"75%\"  \n",
              "[1675] \"73%\"   \"60%\"   \"63%\"   \"74%\"   \"70%\"   \"72%\"   \"72%\"   \"65%\"   \"63%\"  \n",
              "[1684] \"70%\"   \"64%\"   \"69%\"   \"56%\"   \"64%\"   \"64%\"   \"66%\"   \"68%\"   \"72%\"  \n",
              "[1693] \"65%\"   \"64%\"   \"85%\"   \"85%\"   \"71%\"   \"64%\"   \"66%\"   \"70%\"   \"64%\"  \n",
              "[1702] \"64%\"   \"64%\"   \"72%\"   \"65%\"   \"72%\"   \"76%\"   \"80%\"   \"70%\"   \"68%\"  \n",
              "[1711] \"64%\"   \"70%\"   \"70%\"   \"90%\"   \"75%\"   \"75%\"   \"90%\"   \"70%\"   \"70%\"  \n",
              "[1720] \"75%\"   \"100%\"  \"90%\"   \"75%\"   \"65%\"   \"77%\"   \"77%\"   \"77%\"   \"77%\"  \n",
              "[1729] \"77%\"   \"70%\"   \"70%\"   \"70%\"   \"70%\"   \"70%\"   \"72%\"   \"75%\"   \"89%\"  \n",
              "[1738] \"75%\"   \"75%\"   \"70%\"   \"88%\"   \"100%\"  \"71%\"   \"72%\"   \"69%\"   \"70%\"  \n",
              "[1747] \"72%\"   \"74%\"   \"76%\"   \"75%\"   \"70%\"   \"70%\"   \"70%\"   \"70%\"   \"70%\"  \n",
              "[1756] \"70%\"   \"70%\"   \"70%\"   \"66%\"   \"70%\"   \"70%\"   \"70%\"   \"70%\"   \"70%\"  \n",
              "[1765] \"70%\"   \"70%\"   \"60%\"   \"70%\"   \"70%\"   \"85%\"   \"85%\"   \"70%\"   \"78%\"  \n",
              "[1774] \"78%\"   \"65%\"   \"68%\"   \"66%\"   \"72%\"   \"80%\"   \"72%\"   \"65%\"   \"70%\"  \n",
              "[1783] \"70%\"   \"62%\"   \"75%\"   \"75%\"   \"90%\"   \"70%\"   \"68%\"   \"58%\"   \"70%\"  \n",
              "[1792] \"65%\"   \"65%\"   \"62%\"   \"65%\"  "
            ]
          },
          "metadata": {}
        },
        {
          "output_type": "display_data",
          "data": {
            "text/html": [
              "<style>\n",
              ".list-inline {list-style: none; margin:0; padding: 0}\n",
              ".list-inline>li {display: inline-block}\n",
              ".list-inline>li:not(:last-child)::after {content: \"\\00b7\"; padding: 0 .5ex}\n",
              "</style>\n",
              "<ol class=list-inline><li>63</li><li>70</li><li>70</li><li>70</li><li>70</li><li>70</li><li>70</li><li>70</li><li>70</li><li>70</li><li>70</li><li>70</li><li>70</li><li>70</li><li>70</li><li>70</li><li>70</li><li>70</li><li>70</li><li>70</li><li>63</li><li>70</li><li>63</li><li>70</li><li>70</li><li>60</li><li>80</li><li>88</li><li>72</li><li>55</li><li>70</li><li>70</li><li>75</li><li>75</li><li>75</li><li>65</li><li>75</li><li>75</li><li>75</li><li>75</li><li>70</li><li>70</li><li>70</li><li>70</li><li>60</li><li>60</li><li>60</li><li>60</li><li>60</li><li>60</li><li>60</li><li>80</li><li>60</li><li>60</li><li>70</li><li>70</li><li>70</li><li>70</li><li>70</li><li>70</li><li>70</li><li>70</li><li>70</li><li>70</li><li>70</li><li>85</li><li>85</li><li>72</li><li>73</li><li>64</li><li>66</li><li>75</li><li>63</li><li>70</li><li>68</li><li>70</li><li>70</li><li>75</li><li>70</li><li>70</li><li>70</li><li>70</li><li>70</li><li>70</li><li>70</li><li>63</li><li>70</li><li>66</li><li>75</li><li>85</li><li>50</li><li>75</li><li>60</li><li>75</li><li>75</li><li>75</li><li>72</li><li>75</li><li>75</li><li>70</li><li>70</li><li>73</li><li>70</li><li>70</li><li>70</li><li>70</li><li>70</li><li>70</li><li>70</li><li>70</li><li>70</li><li>73</li><li>70</li><li>68</li><li>70</li><li>70</li><li>70</li><li>70</li><li>75</li><li>70</li><li>75</li><li>72</li><li>72</li><li>72</li><li>72</li><li>100</li><li>72</li><li>72</li><li>72</li><li>72</li><li>75</li><li>72</li><li>72</li><li>80</li><li>75</li><li>72</li><li>72</li><li>72</li><li>68</li><li>72</li><li>70</li><li>77</li><li>75</li><li>70</li><li>80</li><li>70</li><li>70</li><li>70</li><li>70</li><li>70</li><li>70</li><li>70</li><li>70</li><li>70</li><li>70</li><li>70</li><li>80</li><li>65</li><li>70</li><li>65</li><li>73</li><li>72</li><li>80</li><li>70</li><li>70</li><li>90</li><li>64</li><li>64</li><li>64</li><li>71</li><li>70</li><li>70</li><li>70</li><li>83</li><li>78</li><li>83</li><li>74</li><li>74</li><li>74</li><li>73</li><li>72</li><li>72</li><li>55</li><li>64</li><li>88</li><li>72</li><li>72</li><li>70</li><li>74</li><li>64</li><li>72</li><li>76</li><li>76</li><li>78</li><li>86</li><li>72</li><li>75</li><li>70</li><li>65</li><li>70</li><li>⋯</li><li>88</li><li>70</li><li>70</li><li>70</li><li>70</li><li>70</li><li>70</li><li>70</li><li>70</li><li>70</li><li>70</li><li>70</li><li>70</li><li>70</li><li>70</li><li>70</li><li>70</li><li>70</li><li>70</li><li>62</li><li>60</li><li>77</li><li>70</li><li>68</li><li>87</li><li>75</li><li>70</li><li>62</li><li>99</li><li>60</li><li>68</li><li>70</li><li>70</li><li>70</li><li>70</li><li>70</li><li>70</li><li>70</li><li>70</li><li>70</li><li>70</li><li>70</li><li>70</li><li>70</li><li>70</li><li>70</li><li>80</li><li>67</li><li>70</li><li>70</li><li>70</li><li>70</li><li>70</li><li>70</li><li>70</li><li>77</li><li>67</li><li>73</li><li>70</li><li>65</li><li>65</li><li>75</li><li>84</li><li>91</li><li>75</li><li>70</li><li>72</li><li>81</li><li>70</li><li>77</li><li>72</li><li>74</li><li>72</li><li>72</li><li>75</li><li>75</li><li>75</li><li>68</li><li>75</li><li>73</li><li>60</li><li>63</li><li>74</li><li>70</li><li>72</li><li>72</li><li>65</li><li>63</li><li>70</li><li>64</li><li>69</li><li>56</li><li>64</li><li>64</li><li>66</li><li>68</li><li>72</li><li>65</li><li>64</li><li>85</li><li>85</li><li>71</li><li>64</li><li>66</li><li>70</li><li>64</li><li>64</li><li>64</li><li>72</li><li>65</li><li>72</li><li>76</li><li>80</li><li>70</li><li>68</li><li>64</li><li>70</li><li>70</li><li>90</li><li>75</li><li>75</li><li>90</li><li>70</li><li>70</li><li>75</li><li>100</li><li>90</li><li>75</li><li>65</li><li>77</li><li>77</li><li>77</li><li>77</li><li>77</li><li>70</li><li>70</li><li>70</li><li>70</li><li>70</li><li>72</li><li>75</li><li>89</li><li>75</li><li>75</li><li>70</li><li>88</li><li>100</li><li>71</li><li>72</li><li>69</li><li>70</li><li>72</li><li>74</li><li>76</li><li>75</li><li>70</li><li>70</li><li>70</li><li>70</li><li>70</li><li>70</li><li>70</li><li>70</li><li>66</li><li>70</li><li>70</li><li>70</li><li>70</li><li>70</li><li>70</li><li>70</li><li>60</li><li>70</li><li>70</li><li>85</li><li>85</li><li>70</li><li>78</li><li>78</li><li>65</li><li>68</li><li>66</li><li>72</li><li>80</li><li>72</li><li>65</li><li>70</li><li>70</li><li>62</li><li>75</li><li>75</li><li>90</li><li>70</li><li>68</li><li>58</li><li>70</li><li>65</li><li>65</li><li>62</li><li>65</li></ol>\n"
            ],
            "text/markdown": "1. 63\n2. 70\n3. 70\n4. 70\n5. 70\n6. 70\n7. 70\n8. 70\n9. 70\n10. 70\n11. 70\n12. 70\n13. 70\n14. 70\n15. 70\n16. 70\n17. 70\n18. 70\n19. 70\n20. 70\n21. 63\n22. 70\n23. 63\n24. 70\n25. 70\n26. 60\n27. 80\n28. 88\n29. 72\n30. 55\n31. 70\n32. 70\n33. 75\n34. 75\n35. 75\n36. 65\n37. 75\n38. 75\n39. 75\n40. 75\n41. 70\n42. 70\n43. 70\n44. 70\n45. 60\n46. 60\n47. 60\n48. 60\n49. 60\n50. 60\n51. 60\n52. 80\n53. 60\n54. 60\n55. 70\n56. 70\n57. 70\n58. 70\n59. 70\n60. 70\n61. 70\n62. 70\n63. 70\n64. 70\n65. 70\n66. 85\n67. 85\n68. 72\n69. 73\n70. 64\n71. 66\n72. 75\n73. 63\n74. 70\n75. 68\n76. 70\n77. 70\n78. 75\n79. 70\n80. 70\n81. 70\n82. 70\n83. 70\n84. 70\n85. 70\n86. 63\n87. 70\n88. 66\n89. 75\n90. 85\n91. 50\n92. 75\n93. 60\n94. 75\n95. 75\n96. 75\n97. 72\n98. 75\n99. 75\n100. 70\n101. 70\n102. 73\n103. 70\n104. 70\n105. 70\n106. 70\n107. 70\n108. 70\n109. 70\n110. 70\n111. 70\n112. 73\n113. 70\n114. 68\n115. 70\n116. 70\n117. 70\n118. 70\n119. 75\n120. 70\n121. 75\n122. 72\n123. 72\n124. 72\n125. 72\n126. 100\n127. 72\n128. 72\n129. 72\n130. 72\n131. 75\n132. 72\n133. 72\n134. 80\n135. 75\n136. 72\n137. 72\n138. 72\n139. 68\n140. 72\n141. 70\n142. 77\n143. 75\n144. 70\n145. 80\n146. 70\n147. 70\n148. 70\n149. 70\n150. 70\n151. 70\n152. 70\n153. 70\n154. 70\n155. 70\n156. 70\n157. 80\n158. 65\n159. 70\n160. 65\n161. 73\n162. 72\n163. 80\n164. 70\n165. 70\n166. 90\n167. 64\n168. 64\n169. 64\n170. 71\n171. 70\n172. 70\n173. 70\n174. 83\n175. 78\n176. 83\n177. 74\n178. 74\n179. 74\n180. 73\n181. 72\n182. 72\n183. 55\n184. 64\n185. 88\n186. 72\n187. 72\n188. 70\n189. 74\n190. 64\n191. 72\n192. 76\n193. 76\n194. 78\n195. 86\n196. 72\n197. 75\n198. 70\n199. 65\n200. 70\n201. ⋯\n202. 88\n203. 70\n204. 70\n205. 70\n206. 70\n207. 70\n208. 70\n209. 70\n210. 70\n211. 70\n212. 70\n213. 70\n214. 70\n215. 70\n216. 70\n217. 70\n218. 70\n219. 70\n220. 70\n221. 62\n222. 60\n223. 77\n224. 70\n225. 68\n226. 87\n227. 75\n228. 70\n229. 62\n230. 99\n231. 60\n232. 68\n233. 70\n234. 70\n235. 70\n236. 70\n237. 70\n238. 70\n239. 70\n240. 70\n241. 70\n242. 70\n243. 70\n244. 70\n245. 70\n246. 70\n247. 70\n248. 80\n249. 67\n250. 70\n251. 70\n252. 70\n253. 70\n254. 70\n255. 70\n256. 70\n257. 77\n258. 67\n259. 73\n260. 70\n261. 65\n262. 65\n263. 75\n264. 84\n265. 91\n266. 75\n267. 70\n268. 72\n269. 81\n270. 70\n271. 77\n272. 72\n273. 74\n274. 72\n275. 72\n276. 75\n277. 75\n278. 75\n279. 68\n280. 75\n281. 73\n282. 60\n283. 63\n284. 74\n285. 70\n286. 72\n287. 72\n288. 65\n289. 63\n290. 70\n291. 64\n292. 69\n293. 56\n294. 64\n295. 64\n296. 66\n297. 68\n298. 72\n299. 65\n300. 64\n301. 85\n302. 85\n303. 71\n304. 64\n305. 66\n306. 70\n307. 64\n308. 64\n309. 64\n310. 72\n311. 65\n312. 72\n313. 76\n314. 80\n315. 70\n316. 68\n317. 64\n318. 70\n319. 70\n320. 90\n321. 75\n322. 75\n323. 90\n324. 70\n325. 70\n326. 75\n327. 100\n328. 90\n329. 75\n330. 65\n331. 77\n332. 77\n333. 77\n334. 77\n335. 77\n336. 70\n337. 70\n338. 70\n339. 70\n340. 70\n341. 72\n342. 75\n343. 89\n344. 75\n345. 75\n346. 70\n347. 88\n348. 100\n349. 71\n350. 72\n351. 69\n352. 70\n353. 72\n354. 74\n355. 76\n356. 75\n357. 70\n358. 70\n359. 70\n360. 70\n361. 70\n362. 70\n363. 70\n364. 70\n365. 66\n366. 70\n367. 70\n368. 70\n369. 70\n370. 70\n371. 70\n372. 70\n373. 60\n374. 70\n375. 70\n376. 85\n377. 85\n378. 70\n379. 78\n380. 78\n381. 65\n382. 68\n383. 66\n384. 72\n385. 80\n386. 72\n387. 65\n388. 70\n389. 70\n390. 62\n391. 75\n392. 75\n393. 90\n394. 70\n395. 68\n396. 58\n397. 70\n398. 65\n399. 65\n400. 62\n401. 65\n\n\n",
            "text/latex": "\\begin{enumerate*}\n\\item 63\n\\item 70\n\\item 70\n\\item 70\n\\item 70\n\\item 70\n\\item 70\n\\item 70\n\\item 70\n\\item 70\n\\item 70\n\\item 70\n\\item 70\n\\item 70\n\\item 70\n\\item 70\n\\item 70\n\\item 70\n\\item 70\n\\item 70\n\\item 63\n\\item 70\n\\item 63\n\\item 70\n\\item 70\n\\item 60\n\\item 80\n\\item 88\n\\item 72\n\\item 55\n\\item 70\n\\item 70\n\\item 75\n\\item 75\n\\item 75\n\\item 65\n\\item 75\n\\item 75\n\\item 75\n\\item 75\n\\item 70\n\\item 70\n\\item 70\n\\item 70\n\\item 60\n\\item 60\n\\item 60\n\\item 60\n\\item 60\n\\item 60\n\\item 60\n\\item 80\n\\item 60\n\\item 60\n\\item 70\n\\item 70\n\\item 70\n\\item 70\n\\item 70\n\\item 70\n\\item 70\n\\item 70\n\\item 70\n\\item 70\n\\item 70\n\\item 85\n\\item 85\n\\item 72\n\\item 73\n\\item 64\n\\item 66\n\\item 75\n\\item 63\n\\item 70\n\\item 68\n\\item 70\n\\item 70\n\\item 75\n\\item 70\n\\item 70\n\\item 70\n\\item 70\n\\item 70\n\\item 70\n\\item 70\n\\item 63\n\\item 70\n\\item 66\n\\item 75\n\\item 85\n\\item 50\n\\item 75\n\\item 60\n\\item 75\n\\item 75\n\\item 75\n\\item 72\n\\item 75\n\\item 75\n\\item 70\n\\item 70\n\\item 73\n\\item 70\n\\item 70\n\\item 70\n\\item 70\n\\item 70\n\\item 70\n\\item 70\n\\item 70\n\\item 70\n\\item 73\n\\item 70\n\\item 68\n\\item 70\n\\item 70\n\\item 70\n\\item 70\n\\item 75\n\\item 70\n\\item 75\n\\item 72\n\\item 72\n\\item 72\n\\item 72\n\\item 100\n\\item 72\n\\item 72\n\\item 72\n\\item 72\n\\item 75\n\\item 72\n\\item 72\n\\item 80\n\\item 75\n\\item 72\n\\item 72\n\\item 72\n\\item 68\n\\item 72\n\\item 70\n\\item 77\n\\item 75\n\\item 70\n\\item 80\n\\item 70\n\\item 70\n\\item 70\n\\item 70\n\\item 70\n\\item 70\n\\item 70\n\\item 70\n\\item 70\n\\item 70\n\\item 70\n\\item 80\n\\item 65\n\\item 70\n\\item 65\n\\item 73\n\\item 72\n\\item 80\n\\item 70\n\\item 70\n\\item 90\n\\item 64\n\\item 64\n\\item 64\n\\item 71\n\\item 70\n\\item 70\n\\item 70\n\\item 83\n\\item 78\n\\item 83\n\\item 74\n\\item 74\n\\item 74\n\\item 73\n\\item 72\n\\item 72\n\\item 55\n\\item 64\n\\item 88\n\\item 72\n\\item 72\n\\item 70\n\\item 74\n\\item 64\n\\item 72\n\\item 76\n\\item 76\n\\item 78\n\\item 86\n\\item 72\n\\item 75\n\\item 70\n\\item 65\n\\item 70\n\\item ⋯\n\\item 88\n\\item 70\n\\item 70\n\\item 70\n\\item 70\n\\item 70\n\\item 70\n\\item 70\n\\item 70\n\\item 70\n\\item 70\n\\item 70\n\\item 70\n\\item 70\n\\item 70\n\\item 70\n\\item 70\n\\item 70\n\\item 70\n\\item 62\n\\item 60\n\\item 77\n\\item 70\n\\item 68\n\\item 87\n\\item 75\n\\item 70\n\\item 62\n\\item 99\n\\item 60\n\\item 68\n\\item 70\n\\item 70\n\\item 70\n\\item 70\n\\item 70\n\\item 70\n\\item 70\n\\item 70\n\\item 70\n\\item 70\n\\item 70\n\\item 70\n\\item 70\n\\item 70\n\\item 70\n\\item 80\n\\item 67\n\\item 70\n\\item 70\n\\item 70\n\\item 70\n\\item 70\n\\item 70\n\\item 70\n\\item 77\n\\item 67\n\\item 73\n\\item 70\n\\item 65\n\\item 65\n\\item 75\n\\item 84\n\\item 91\n\\item 75\n\\item 70\n\\item 72\n\\item 81\n\\item 70\n\\item 77\n\\item 72\n\\item 74\n\\item 72\n\\item 72\n\\item 75\n\\item 75\n\\item 75\n\\item 68\n\\item 75\n\\item 73\n\\item 60\n\\item 63\n\\item 74\n\\item 70\n\\item 72\n\\item 72\n\\item 65\n\\item 63\n\\item 70\n\\item 64\n\\item 69\n\\item 56\n\\item 64\n\\item 64\n\\item 66\n\\item 68\n\\item 72\n\\item 65\n\\item 64\n\\item 85\n\\item 85\n\\item 71\n\\item 64\n\\item 66\n\\item 70\n\\item 64\n\\item 64\n\\item 64\n\\item 72\n\\item 65\n\\item 72\n\\item 76\n\\item 80\n\\item 70\n\\item 68\n\\item 64\n\\item 70\n\\item 70\n\\item 90\n\\item 75\n\\item 75\n\\item 90\n\\item 70\n\\item 70\n\\item 75\n\\item 100\n\\item 90\n\\item 75\n\\item 65\n\\item 77\n\\item 77\n\\item 77\n\\item 77\n\\item 77\n\\item 70\n\\item 70\n\\item 70\n\\item 70\n\\item 70\n\\item 72\n\\item 75\n\\item 89\n\\item 75\n\\item 75\n\\item 70\n\\item 88\n\\item 100\n\\item 71\n\\item 72\n\\item 69\n\\item 70\n\\item 72\n\\item 74\n\\item 76\n\\item 75\n\\item 70\n\\item 70\n\\item 70\n\\item 70\n\\item 70\n\\item 70\n\\item 70\n\\item 70\n\\item 66\n\\item 70\n\\item 70\n\\item 70\n\\item 70\n\\item 70\n\\item 70\n\\item 70\n\\item 60\n\\item 70\n\\item 70\n\\item 85\n\\item 85\n\\item 70\n\\item 78\n\\item 78\n\\item 65\n\\item 68\n\\item 66\n\\item 72\n\\item 80\n\\item 72\n\\item 65\n\\item 70\n\\item 70\n\\item 62\n\\item 75\n\\item 75\n\\item 90\n\\item 70\n\\item 68\n\\item 58\n\\item 70\n\\item 65\n\\item 65\n\\item 62\n\\item 65\n\\end{enumerate*}\n",
            "text/plain": [
              "   [1]  63.0  70.0  70.0  70.0  70.0  70.0  70.0  70.0  70.0  70.0  70.0  70.0\n",
              "  [13]  70.0  70.0  70.0  70.0  70.0  70.0  70.0  70.0  63.0  70.0  63.0  70.0\n",
              "  [25]  70.0  60.0  80.0  88.0  72.0  55.0  70.0  70.0  75.0  75.0  75.0  65.0\n",
              "  [37]  75.0  75.0  75.0  75.0  70.0  70.0  70.0  70.0  60.0  60.0  60.0  60.0\n",
              "  [49]  60.0  60.0  60.0  80.0  60.0  60.0  70.0  70.0  70.0  70.0  70.0  70.0\n",
              "  [61]  70.0  70.0  70.0  70.0  70.0  85.0  85.0  72.0  73.0  64.0  66.0  75.0\n",
              "  [73]  63.0  70.0  68.0  70.0  70.0  75.0  70.0  70.0  70.0  70.0  70.0  70.0\n",
              "  [85]  70.0  63.0  70.0  66.0  75.0  85.0  50.0  75.0  60.0  75.0  75.0  75.0\n",
              "  [97]  72.0  75.0  75.0  70.0  70.0  73.0  70.0  70.0  70.0  70.0  70.0  70.0\n",
              " [109]  70.0  70.0  70.0  73.0  70.0  68.0  70.0  70.0  70.0  70.0  75.0  70.0\n",
              " [121]  75.0  72.0  72.0  72.0  72.0 100.0  72.0  72.0  72.0  72.0  75.0  72.0\n",
              " [133]  72.0  80.0  75.0  72.0  72.0  72.0  68.0  72.0  70.0  77.0  75.0  70.0\n",
              " [145]  80.0  70.0  70.0  70.0  70.0  70.0  70.0  70.0  70.0  70.0  70.0  70.0\n",
              " [157]  80.0  65.0  70.0  65.0  73.0  72.0  80.0  70.0  70.0  90.0  64.0  64.0\n",
              " [169]  64.0  71.0  70.0  70.0  70.0  83.0  78.0  83.0  74.0  74.0  74.0  73.0\n",
              " [181]  72.0  72.0  55.0  64.0  88.0  72.0  72.0  70.0  74.0  64.0  72.0  76.0\n",
              " [193]  76.0  78.0  86.0  72.0  75.0  70.0  65.0  70.0  78.0  75.0  65.0  75.0\n",
              " [205]  65.0  71.0  75.0  68.0  70.0  70.0  70.0  70.0  70.0  82.0  72.0  82.0\n",
              " [217]  75.0  75.0  75.0  70.0  70.0  75.0  75.0  75.0  65.0  75.0  75.0  75.0\n",
              " [229]  75.0  75.0  75.0  75.0  75.0  75.0  75.0  75.0  75.0  75.0  75.0  75.0\n",
              " [241]  75.0  75.0  75.0  75.0  75.0 100.0  75.0  75.0  77.0 100.0  70.0  70.0\n",
              " [253]  70.0  70.0  68.0  70.0  70.0  72.0  70.0  75.0  85.0  60.0  80.0  70.0\n",
              " [265]  80.0  80.0  60.0  70.0  72.0  70.0  72.0  68.0  70.0  68.0  72.0  72.0\n",
              " [277]  72.0  72.0  60.0  70.0  75.0  75.0  75.0  75.0  65.0  70.0  75.0  72.0\n",
              " [289]  66.0  77.0  75.0  75.0  74.0  75.0  70.0  74.0  71.0  74.0  72.0  64.0\n",
              " [301]  70.0  69.0  70.0  70.0  72.0  72.0  66.0  65.0  70.0  71.0  71.0  71.0\n",
              " [313]  71.0  71.0  77.0  70.0  70.0  70.0  70.0  70.0  70.0  63.0  71.0  82.0\n",
              " [325]  91.0  60.0  70.0  75.0  72.0  70.0 100.0  80.0  78.0  70.0  75.0  73.0\n",
              " [337]  70.0  75.0  70.0  77.0  77.0  77.0  55.0  55.0  55.0  70.0  70.0  72.0\n",
              " [349]  72.0  72.0  72.0  80.0  65.0  65.0  65.0  65.0  65.0  72.0  72.0  70.0\n",
              " [361]  72.0  72.0  76.0  70.0  70.0  73.0  70.0  70.0  72.0  70.0  72.0  70.0\n",
              " [373]  70.0  70.0  70.0  72.0  70.0  70.0  55.0  75.0  70.0  70.0  70.0  75.0\n",
              " [385]  82.0  70.0  70.0  65.0  65.0  80.0  70.0  68.0  90.0  80.0  70.0  70.0\n",
              " [397]  60.0  75.0  80.0  70.0  80.0  74.0  75.0  68.0  80.0  69.0  80.0  70.0\n",
              " [409]  82.0  68.0  72.0  70.0  77.0  65.0  71.0  71.0  60.0  75.0  71.0  71.0\n",
              " [421]  71.0  70.0  65.0  75.0  80.0  70.0  70.0  80.0  70.0  42.0  75.0  68.0\n",
              " [433]  61.0  77.0  73.5  80.0  75.0 100.0  73.0  75.0  70.0  80.0  72.0  70.0\n",
              " [445]  88.0  76.0  78.0  65.0  85.0 100.0  72.0  70.0  72.0  70.0  72.0  72.0\n",
              " [457]  72.0  72.0  72.0  62.0  70.0  70.0  72.0  72.0  72.0  70.0  70.0  83.0\n",
              " [469]  75.0  65.0  67.0  64.0  75.0  85.0  73.0  70.0  70.0  72.0  70.0  70.0\n",
              " [481]  70.0  70.0  70.0  70.0  70.0  70.0  70.0  70.0  70.0  70.0  70.0  70.0\n",
              " [493]  70.0  70.0  70.0  70.0  70.0  70.0  82.0  75.0  70.0  70.0  70.0  70.0\n",
              " [505]  60.0  75.0  60.0  72.0  72.0  70.0  75.0  70.0  70.0  70.0  70.0  70.0\n",
              " [517]  70.0  70.0  58.0  72.0  65.0  70.0  70.0  66.0  64.0  71.0  60.0  64.0\n",
              " [529]  64.0  64.0  66.0  72.0  80.0  77.0  77.0  70.0  78.0  70.0  74.0  70.0\n",
              " [541]  76.0  75.0  72.0  80.0  72.0  75.0  74.0  70.0  85.0  72.0  72.0  72.0\n",
              " [553]  70.0  88.0  70.0  70.0  70.0 100.0  70.0  70.0  70.0  70.0  70.0  70.0\n",
              " [565]  78.0  70.0  70.0  75.0  60.0  70.0  70.0  70.0  70.0  70.0  70.0  70.0\n",
              " [577]  70.0  75.0  70.0  80.0  77.0  70.0  70.0  76.0  72.0  72.0  65.0  72.0\n",
              " [589]  71.0  71.0  70.0  72.0  70.0  70.0  70.0  82.0  70.0  70.0  70.0  70.0\n",
              " [601]  70.0  70.0  70.0  70.0  70.0  70.0  72.0  68.0  75.0  71.0  70.0  60.5\n",
              " [613]  70.0  74.0  58.0  61.0  70.0  60.0  70.0  79.0  78.0  75.0  80.0  70.0\n",
              " [625]  80.0  74.0  70.0  65.0  81.0  74.0  72.0  55.0  55.0  70.0  62.0  62.0\n",
              " [637]  80.0  80.0  80.0  75.0  76.0  76.0  76.0  58.0  62.0  74.0  64.0  65.0\n",
              " [649]  72.0  68.0  65.0  80.0  70.0  85.0  72.0  70.0  80.0  70.0  75.0  67.0\n",
              " [661]  70.0  70.0  70.0  60.0  70.0  75.0  80.0  60.0  65.0  70.0  73.0  80.0\n",
              " [673]  68.0  66.0  70.0  61.0  81.0  70.0  65.0  70.0  70.0  70.0  70.0  72.0\n",
              " [685]  72.0  70.0  70.0  69.0  69.0  74.0  69.0  69.0  74.0  70.0  72.0  70.0\n",
              " [697]  74.0  72.0  74.0  76.0  70.0  80.0  70.0  70.0  65.0  70.0  60.0  85.0\n",
              " [709]  70.0  70.0  70.0  70.0  70.0  70.0  70.0  70.0  70.0  70.0  74.0  74.0\n",
              " [721]  70.0  76.0  70.0  75.0  70.0  66.0  70.0  85.0  65.0  70.0  70.0  80.0\n",
              " [733]  75.0  70.0  66.0  77.0  77.0  77.0  72.0  70.0  70.0  82.0  60.0  71.0\n",
              " [745]  64.0  64.0  64.0  76.0  64.0  70.0  65.0  65.0  65.0  65.0  72.0  61.0\n",
              " [757]  72.0  65.0  55.0  91.0  70.0  65.0  64.0  65.0  72.0  65.0  65.0  65.0\n",
              " [769]  65.0  61.0  61.0  80.0  74.0  75.0  70.0  65.0  70.0  80.0  66.0 100.0\n",
              " [781]  77.0  55.0  70.0  70.0  85.0  67.0  77.0  74.0  64.0  70.0  74.0  67.0\n",
              " [793]  67.0  67.0  67.0  72.0  70.0  77.0  68.0  72.0  57.0  74.0  70.0  74.0\n",
              " [805]  70.0  73.0  70.0  70.0  72.0  75.0  66.0  80.0  80.0  72.0  58.0  58.0\n",
              " [817]  70.0  70.0  70.0  70.0  70.0  70.0  70.0  70.0  75.0  72.0  70.0  70.0\n",
              " [829] 100.0  75.0  80.0  90.0  72.0  82.0 100.0 100.0 100.0  66.0  80.0  65.0\n",
              " [841]  65.0  70.0  70.0  70.0  72.0  80.0  75.0  72.0  70.0  70.0  70.0  70.0\n",
              " [853]  70.0  70.0  70.0  70.0  72.0  72.0  72.0  72.0  72.0  74.0  72.0  70.0\n",
              " [865]  72.0  72.0  61.0  70.0  70.0  77.0  72.0  72.0  72.0  72.0  72.0  72.0\n",
              " [877]  70.0  70.0  71.0  63.0  70.0  70.0  70.0  70.0  82.0  55.0  62.0  64.0\n",
              " [889]  65.0  70.0  70.0  75.0  85.0  85.0  85.0  75.0  85.0  70.0  80.0  70.0\n",
              " [901]  72.0  60.0  72.0  72.0  72.0  72.0  90.0  72.0  72.0  70.0  70.0  70.0\n",
              " [913]  70.0  72.5  72.5  72.5  72.5  74.0  70.0  68.0  74.0  75.0  74.0  71.0\n",
              " [925]  64.0  68.0  70.0  70.0  70.0  70.0  74.0  60.0  56.0  66.0  68.0  68.0\n",
              " [937]  69.0  60.0  60.0  74.0  72.0  60.0  75.0  75.0  75.0  75.0  75.0  75.0\n",
              " [949]  75.0  75.0  70.0  68.0  70.0  75.0  80.0  75.0  75.0  72.0  70.0  70.0\n",
              " [961]  70.0  70.0  70.0  70.0  70.0  70.0  70.0  71.0  70.0  65.0  68.0  68.0\n",
              " [973]  75.0  74.0  68.0  85.0  65.0  70.0  65.0  75.0  71.0  72.0  70.0  75.0\n",
              " [985]  46.0  60.0  58.0  65.0  70.0  55.0  67.0  70.0  63.0  75.0  73.0  70.0\n",
              " [997]  70.0  70.0  70.0  70.0  70.0  70.0  70.0  70.0  72.0  75.0  70.0  70.0\n",
              "[1009]  70.0  70.0  75.0  73.0  65.0  55.0  55.0  70.0  74.0  74.0  74.0  74.0\n",
              "[1021]  70.0  72.0  72.0  72.0  72.0  72.0  72.0  72.0  70.0  70.0  70.0  85.0\n",
              "[1033]  70.0  70.0  70.0  75.0  70.0  62.0  70.0  70.0  70.0  68.0  75.0  72.0\n",
              "[1045]  78.0  70.0  70.0  70.0  75.0  85.0  68.0  70.0  75.0  76.0  72.0  70.0\n",
              "[1057]  78.0  80.0  74.0  65.0  65.0  65.0  65.0  74.0  89.0  76.0  82.0  74.0\n",
              "[1069]  76.0  74.0  75.0  73.0  72.0  73.0  72.0  76.0  70.0  81.0  70.0  71.0\n",
              "[1081]  75.0  73.0  74.0  81.0  75.0  70.0  72.0  68.0  74.0  70.0  70.0  70.0\n",
              "[1093]  82.0  63.0  72.0  70.0  70.0  70.0  70.0  70.0  80.0  72.0  80.0  70.0\n",
              "[1105]  80.0  70.0  70.0  80.0  70.0  72.0  70.0  66.0  66.0  67.0  60.0  85.0\n",
              "[1117]  70.0  67.0  65.0  64.0  99.0  80.0  70.0  75.0  75.0  75.0  70.0  75.0\n",
              "[1129]  80.0  65.0  75.0  70.0  70.0  70.0  67.0  77.0  70.0  75.0  70.0  65.0\n",
              "[1141]  73.0  72.0  67.0  70.0  70.0  70.0  70.0  70.0  70.0  72.0  70.0  70.0\n",
              "[1153]  63.0  85.0  70.0  80.0  68.0  71.0  68.0  80.0  58.0  70.0  70.0  78.0\n",
              "[1165]  71.0  70.0  75.0  70.0  85.0  72.0  70.0  73.5  70.0  70.0  67.0  73.0\n",
              "[1177]  73.0  75.0  71.0  72.0  72.0  72.0  72.0  75.0  75.0  75.0  75.0  75.0\n",
              "[1189]  70.0  70.0  70.0  75.0  80.0  70.0  70.0  70.0  70.0  70.0  70.0  70.0\n",
              "[1201]  70.0  70.0  70.0  75.0 100.0  70.0  66.0  70.0  88.0  74.0  70.0  70.0\n",
              "[1213]  70.0  72.0  72.0  67.0  75.0  76.0  76.0  85.0  85.0  80.0  70.0  70.0\n",
              "[1225]  66.0  74.0  72.0  72.0  72.0  72.0  68.0  80.0  66.0  70.0  75.0  68.0\n",
              "[1237]  60.0  60.0  65.0  72.0  70.0  70.0  70.0  70.0  70.0  85.0  70.0  70.0\n",
              "[1249]  60.0  65.0  72.0 100.0  70.0  70.0  72.0  70.0  70.0  72.0  72.0  72.0\n",
              "[1261]  78.0  75.0  75.0  70.0  76.0  65.0  70.0  70.0  70.0  70.0  55.0  70.0\n",
              "[1273]  70.0  75.0  67.0  70.0  70.0  67.0  73.0  64.0  82.0  70.0  75.0  75.0\n",
              "[1285]  78.0  85.0  72.0  72.0  70.0  72.0  72.0  85.0  72.0  72.0  72.0  80.0\n",
              "[1297]  62.0  80.0  80.0  80.0  80.0  73.0  73.0  73.0  73.0  76.0  82.0  70.0\n",
              "[1309]  70.0  70.0  70.0  70.0  70.0  82.0  75.0  75.0  75.0  75.0  75.0 100.0\n",
              "[1321]  75.0  75.0  75.0  75.0  75.0  75.0  75.0  75.0  75.0  75.0  75.0  75.0\n",
              "[1333]  75.0  75.0  75.0  80.0  75.0  75.0  75.0  77.0  70.0  74.0  80.0  75.0\n",
              "[1345]  75.0  72.0  85.0  73.0  75.0  85.0  55.0  80.0  60.0  65.0  70.0  74.0\n",
              "[1357]  70.0  75.0  75.0  85.0  70.0  75.0  70.0  80.0  73.0  75.0  70.0  75.0\n",
              "[1369]  75.0  75.0  67.0  75.0  75.0  85.0  70.0  75.0  75.0  75.0  75.0  75.0\n",
              "[1381]  75.0  70.0  70.0  70.0  75.0  68.0  66.0  75.0  70.0  75.0  80.0  70.0\n",
              "[1393]  70.0  75.0  75.0  75.0  75.0  75.0  70.0  70.0  70.0  70.0  70.0  84.0\n",
              "[1405]  76.0  72.0  73.0  71.0  70.0  77.0  64.0 100.0  70.0  72.0  72.0  83.0\n",
              "[1417]  69.0  70.0  70.0  70.0  70.0  75.0  70.0  53.0  65.0  70.0  70.0  78.0\n",
              "[1429]  68.0  68.0  65.0  68.0  65.0  72.0  72.0  72.0  62.0  75.0  75.0  82.0\n",
              "[1441]  70.0  68.0  70.0  62.0  70.0  70.0  72.0  73.0  77.0  74.0  75.0  72.0\n",
              "[1453]  73.0  73.0  70.0  75.0  82.0  70.0  70.0  67.0  65.0  60.0  68.0  73.0\n",
              "[1465]  73.0  73.0 100.0 100.0  73.0  73.0  73.0  67.0  73.0  73.0  70.0  72.0\n",
              "[1477]  70.0  70.0  70.0  70.0  70.0  67.0  70.0  65.0  70.0  67.0  70.0  72.0\n",
              "[1489]  72.0  65.0  67.0  70.0  67.0  68.0  68.0  70.0  72.0  68.0  85.0  70.0\n",
              "[1501]  75.0  70.0  70.0  70.0  70.0  70.0  70.0  62.0  70.0  70.0  75.0  70.0\n",
              "[1513]  70.0  70.0  70.0  75.0  70.0  70.0  70.0  80.0  70.0  70.0  77.0  70.0\n",
              "[1525]  70.0  70.0  70.0  70.0  88.0  70.0  67.0  70.0  70.0  70.0  70.0  70.0\n",
              "[1537]  70.0  70.0  70.0  70.0  85.0  70.0  70.0  64.0  70.0  70.0  70.0  70.0\n",
              "[1549]  70.0  70.0  70.0  70.0  70.0  70.0  70.0  70.0  70.0  70.0  75.0  75.0\n",
              "[1561]  77.0  80.0  70.0  80.0  75.0  70.0  70.0  70.0  70.0  70.0  70.0  72.0\n",
              "[1573]  70.0  70.0  84.0  70.0  70.0  70.0  70.0  70.0  68.0  72.0  84.0  70.0\n",
              "[1585]  65.0  70.0  75.0  67.0  78.0  61.0  71.0  70.0  60.0  70.0  70.0  88.0\n",
              "[1597]  70.0  70.0  70.0  70.0  70.0  70.0  70.0  70.0  70.0  70.0  70.0  70.0\n",
              "[1609]  70.0  70.0  70.0  70.0  70.0  70.0  62.0  60.0  77.0  70.0  68.0  87.0\n",
              "[1621]  75.0  70.0  62.0  99.0  60.0  68.0  70.0  70.0  70.0  70.0  70.0  70.0\n",
              "[1633]  70.0  70.0  70.0  70.0  70.0  70.0  70.0  70.0  70.0  80.0  67.0  70.0\n",
              "[1645]  70.0  70.0  70.0  70.0  70.0  70.0  77.0  67.0  73.0  70.0  65.0  65.0\n",
              "[1657]  75.0  84.0  91.0  75.0  70.0  72.0  81.0  70.0  77.0  72.0  74.0  72.0\n",
              "[1669]  72.0  75.0  75.0  75.0  68.0  75.0  73.0  60.0  63.0  74.0  70.0  72.0\n",
              "[1681]  72.0  65.0  63.0  70.0  64.0  69.0  56.0  64.0  64.0  66.0  68.0  72.0\n",
              "[1693]  65.0  64.0  85.0  85.0  71.0  64.0  66.0  70.0  64.0  64.0  64.0  72.0\n",
              "[1705]  65.0  72.0  76.0  80.0  70.0  68.0  64.0  70.0  70.0  90.0  75.0  75.0\n",
              "[1717]  90.0  70.0  70.0  75.0 100.0  90.0  75.0  65.0  77.0  77.0  77.0  77.0\n",
              "[1729]  77.0  70.0  70.0  70.0  70.0  70.0  72.0  75.0  89.0  75.0  75.0  70.0\n",
              "[1741]  88.0 100.0  71.0  72.0  69.0  70.0  72.0  74.0  76.0  75.0  70.0  70.0\n",
              "[1753]  70.0  70.0  70.0  70.0  70.0  70.0  66.0  70.0  70.0  70.0  70.0  70.0\n",
              "[1765]  70.0  70.0  60.0  70.0  70.0  85.0  85.0  70.0  78.0  78.0  65.0  68.0\n",
              "[1777]  66.0  72.0  80.0  72.0  65.0  70.0  70.0  62.0  75.0  75.0  90.0  70.0\n",
              "[1789]  68.0  58.0  70.0  65.0  65.0  62.0  65.0"
            ]
          },
          "metadata": {}
        }
      ]
    },
    {
      "cell_type": "markdown",
      "source": [
        "Sprawdź ile jest braków w zbiorze danych"
      ],
      "metadata": {
        "id": "IzM8nSuu2umj"
      }
    },
    {
      "cell_type": "markdown",
      "source": [
        "Oraz spróbuj wyfiltrowac \"puste\" komórki dla zmiennej Bean_Type i zamienić je na NA\n"
      ],
      "metadata": {
        "id": "tfatqn6V4uSm"
      }
    },
    {
      "cell_type": "code",
      "source": [
        "znajdź_niealfabetyczne <- function(x) {\n",
        "  # Zwraca TRUE, jeśli ciąg nie zawiera liter alfabetu\n",
        "  grepl(\"^[^A-Za-z]+$\", x)\n",
        "}\n",
        "\n",
        "# Identyfikacja kolumn z wartościami znakowymi\n",
        "kolumny_znaki <- sapply(df2, is.character)\n",
        "\n",
        "# Zastosowanie funkcji do każdej kolumny znakowej\n",
        "df2[kolumny_znaki] <- lapply(df2[kolumny_znaki], function(x) {\n",
        "  # Zastąpienie niealfabetycznych pól NA\n",
        "  ifelse(znajdź_niealfabetyczne(x), NA, x)\n",
        "})\n",
        "\n",
        "# Obliczenie całkowitej liczby wartości NA w zbiorze danych\n",
        "total_na <- sum(is.na(df2))\n",
        "\n",
        "# Wyświetlenie całkowitej liczby pustych pól\n",
        "total_na"
      ],
      "metadata": {
        "colab": {
          "base_uri": "https://localhost:8080/",
          "height": 34
        },
        "outputId": "dd1bf00b-3bff-4d66-8567-ef482dcadc3b",
        "id": "wF-SwuNSDCE7"
      },
      "execution_count": 19,
      "outputs": [
        {
          "output_type": "display_data",
          "data": {
            "text/html": [
              "960"
            ],
            "text/markdown": "960",
            "text/latex": "960",
            "text/plain": [
              "[1] 960"
            ]
          },
          "metadata": {}
        }
      ]
    },
    {
      "cell_type": "markdown",
      "source": [
        "Wyświetl nazwy kolumn, w których występują braki"
      ],
      "metadata": {
        "id": "SYvYqZeq4pr_"
      }
    },
    {
      "cell_type": "code",
      "source": [
        "# Liczenie liczby wartości NA w każdej kolumnie\n",
        "liczba_na <- colSums(is.na(df2))\n",
        "\n",
        "# Filtruj, aby uzyskać nazwy kolumn z brakującymi wartościami\n",
        "kolumny_z_na <- names(liczba_na)[liczba_na > 0]\n",
        "\n",
        "# Wyświetlenie nazw kolumn z brakującymi wartościami\n",
        "kolumny_z_na"
      ],
      "metadata": {
        "id": "s5uZTtPp4usP",
        "outputId": "be02b753-2393-4eec-9348-988449bbbd89",
        "colab": {
          "base_uri": "https://localhost:8080/",
          "height": 34
        }
      },
      "execution_count": 20,
      "outputs": [
        {
          "output_type": "display_data",
          "data": {
            "text/html": [
              "<style>\n",
              ".list-inline {list-style: none; margin:0; padding: 0}\n",
              ".list-inline>li {display: inline-block}\n",
              ".list-inline>li:not(:last-child)::after {content: \"\\00b7\"; padding: 0 .5ex}\n",
              "</style>\n",
              "<ol class=list-inline><li>'Bean_Type'</li><li>'Broad_Bean_Origin'</li></ol>\n"
            ],
            "text/markdown": "1. 'Bean_Type'\n2. 'Broad_Bean_Origin'\n\n\n",
            "text/latex": "\\begin{enumerate*}\n\\item 'Bean\\_Type'\n\\item 'Broad\\_Bean\\_Origin'\n\\end{enumerate*}\n",
            "text/plain": [
              "[1] \"Bean_Type\"         \"Broad_Bean_Origin\""
            ]
          },
          "metadata": {}
        }
      ]
    },
    {
      "cell_type": "markdown",
      "source": [
        "Usun cały wiersz, dla którego zmienna Broad_Bean_Origin zawiera brakujące dane"
      ],
      "metadata": {
        "id": "ga5zTJ7521zb"
      }
    },
    {
      "cell_type": "code",
      "source": [
        "df2 <- df2[!is.na(df2$Broad_Bean_Origin), ]"
      ],
      "metadata": {
        "id": "hhc9CJJ141k8"
      },
      "execution_count": 26,
      "outputs": []
    },
    {
      "cell_type": "markdown",
      "source": [
        "Wykonaj tabelę liczności dla zmiennej Bean_Type"
      ],
      "metadata": {
        "id": "XMkEUsJ3FDVR"
      }
    },
    {
      "cell_type": "code",
      "source": [
        "bean_type_table <- table(df2$Bean_Type)\n",
        "print(bean_type_table)"
      ],
      "metadata": {
        "id": "Or3y4IP0FIqj",
        "outputId": "484e65bb-1472-4740-9a20-7ea37114b63d",
        "colab": {
          "base_uri": "https://localhost:8080/"
        }
      },
      "execution_count": 25,
      "outputs": [
        {
          "output_type": "stream",
          "name": "stdout",
          "text": [
            "\n",
            "                                           Amazon               Amazon mix \n",
            "                       1                        1                        2 \n",
            "             Amazon, ICS                  Beniano                    Blend \n",
            "                       2                        3                       21 \n",
            " Blend-Forastero,Criollo                    CCN51                  Criollo \n",
            "                       1                        1                      152 \n",
            "        Criollo (Amarru)     Criollo (Ocumare 61)     Criollo (Ocumare 67) \n",
            "                       2                        2                        1 \n",
            "    Criollo (Ocumare 77)        Criollo (Ocumare)      Criollo (Porcelana) \n",
            "                       1                        1                       10 \n",
            "          Criollo (Wild)               Criollo, +       Criollo, Forastero \n",
            "                       1                        1                        2 \n",
            "     Criollo, Trinitario                      EET                Forastero \n",
            "                      39                        3                       87 \n",
            "   Forastero (Amelonado)       Forastero (Arriba)   Forastero (Arriba) ASS \n",
            "                       1                       37                        6 \n",
            " Forastero (Arriba) ASSS      Forastero (Catongo)     Forastero (Nacional) \n",
            "                       1                        2                       52 \n",
            "   Forastero (Parazinho)    Forastero, Trinitario   Forastero(Arriba, CCN) \n",
            "                       8                        1                        1 \n",
            "                  Matina                 Nacional        Nacional (Arriba) \n",
            "                       3                        2                        3 \n",
            "              Trinitario Trinitario (85% Criollo)   Trinitario (Amelonado) \n",
            "                     418                        2                        1 \n",
            "    Trinitario (Scavina)      Trinitario, Criollo    Trinitario, Forastero \n",
            "                       1                        9                        2 \n",
            "    Trinitario, Nacional         Trinitario, TCGA \n",
            "                       1                        1 \n"
          ]
        }
      ]
    },
    {
      "cell_type": "markdown",
      "source": [
        "Usuń kolumnę Bean_Type"
      ],
      "metadata": {
        "id": "GnZ0EyYdmSE6"
      }
    },
    {
      "cell_type": "code",
      "source": [
        "df2_clean <- df2[, !(names(df2) %in% c(\"Bean_Type\"))]\n",
        "head(df2_clean)"
      ],
      "metadata": {
        "id": "ZOWZgglYCZ-M",
        "outputId": "9fd02940-460e-482f-9fe0-6ef475b4aa64",
        "colab": {
          "base_uri": "https://localhost:8080/",
          "height": 286
        }
      },
      "execution_count": 27,
      "outputs": [
        {
          "output_type": "display_data",
          "data": {
            "text/html": [
              "<table class=\"dataframe\">\n",
              "<caption>A data.frame: 6 × 8</caption>\n",
              "<thead>\n",
              "\t<tr><th></th><th scope=col>Company</th><th scope=col>Specific_Bean_Origin_or_Bar_Name</th><th scope=col>REF</th><th scope=col>Review_Date</th><th scope=col>Cocoa_Percentage</th><th scope=col>Company_Location</th><th scope=col>Rating</th><th scope=col>Broad_Bean_Origin</th></tr>\n",
              "\t<tr><th></th><th scope=col>&lt;chr&gt;</th><th scope=col>&lt;chr&gt;</th><th scope=col>&lt;int&gt;</th><th scope=col>&lt;int&gt;</th><th scope=col>&lt;dbl&gt;</th><th scope=col>&lt;chr&gt;</th><th scope=col>&lt;dbl&gt;</th><th scope=col>&lt;chr&gt;</th></tr>\n",
              "</thead>\n",
              "<tbody>\n",
              "\t<tr><th scope=row>1</th><td>A. Morin</td><td>Agua Grande</td><td>1876</td><td>2016</td><td>63</td><td>France</td><td>3.75</td><td>Sao Tome </td></tr>\n",
              "\t<tr><th scope=row>2</th><td>A. Morin</td><td>Kpime      </td><td>1676</td><td>2015</td><td>70</td><td>France</td><td>2.75</td><td>Togo     </td></tr>\n",
              "\t<tr><th scope=row>3</th><td>A. Morin</td><td>Atsane     </td><td>1676</td><td>2015</td><td>70</td><td>France</td><td>3.00</td><td>Togo     </td></tr>\n",
              "\t<tr><th scope=row>4</th><td>A. Morin</td><td>Akata      </td><td>1680</td><td>2015</td><td>70</td><td>France</td><td>3.50</td><td>Togo     </td></tr>\n",
              "\t<tr><th scope=row>5</th><td>A. Morin</td><td>Quilla     </td><td>1704</td><td>2015</td><td>70</td><td>France</td><td>3.50</td><td>Peru     </td></tr>\n",
              "\t<tr><th scope=row>6</th><td>A. Morin</td><td>Carenero   </td><td>1315</td><td>2014</td><td>70</td><td>France</td><td>2.75</td><td>Venezuela</td></tr>\n",
              "</tbody>\n",
              "</table>\n"
            ],
            "text/markdown": "\nA data.frame: 6 × 8\n\n| <!--/--> | Company &lt;chr&gt; | Specific_Bean_Origin_or_Bar_Name &lt;chr&gt; | REF &lt;int&gt; | Review_Date &lt;int&gt; | Cocoa_Percentage &lt;dbl&gt; | Company_Location &lt;chr&gt; | Rating &lt;dbl&gt; | Broad_Bean_Origin &lt;chr&gt; |\n|---|---|---|---|---|---|---|---|---|\n| 1 | A. Morin | Agua Grande | 1876 | 2016 | 63 | France | 3.75 | Sao Tome  |\n| 2 | A. Morin | Kpime       | 1676 | 2015 | 70 | France | 2.75 | Togo      |\n| 3 | A. Morin | Atsane      | 1676 | 2015 | 70 | France | 3.00 | Togo      |\n| 4 | A. Morin | Akata       | 1680 | 2015 | 70 | France | 3.50 | Togo      |\n| 5 | A. Morin | Quilla      | 1704 | 2015 | 70 | France | 3.50 | Peru      |\n| 6 | A. Morin | Carenero    | 1315 | 2014 | 70 | France | 2.75 | Venezuela |\n\n",
            "text/latex": "A data.frame: 6 × 8\n\\begin{tabular}{r|llllllll}\n  & Company & Specific\\_Bean\\_Origin\\_or\\_Bar\\_Name & REF & Review\\_Date & Cocoa\\_Percentage & Company\\_Location & Rating & Broad\\_Bean\\_Origin\\\\\n  & <chr> & <chr> & <int> & <int> & <dbl> & <chr> & <dbl> & <chr>\\\\\n\\hline\n\t1 & A. Morin & Agua Grande & 1876 & 2016 & 63 & France & 3.75 & Sao Tome \\\\\n\t2 & A. Morin & Kpime       & 1676 & 2015 & 70 & France & 2.75 & Togo     \\\\\n\t3 & A. Morin & Atsane      & 1676 & 2015 & 70 & France & 3.00 & Togo     \\\\\n\t4 & A. Morin & Akata       & 1680 & 2015 & 70 & France & 3.50 & Togo     \\\\\n\t5 & A. Morin & Quilla      & 1704 & 2015 & 70 & France & 3.50 & Peru     \\\\\n\t6 & A. Morin & Carenero    & 1315 & 2014 & 70 & France & 2.75 & Venezuela\\\\\n\\end{tabular}\n",
            "text/plain": [
              "  Company  Specific_Bean_Origin_or_Bar_Name REF  Review_Date Cocoa_Percentage\n",
              "1 A. Morin Agua Grande                      1876 2016        63              \n",
              "2 A. Morin Kpime                            1676 2015        70              \n",
              "3 A. Morin Atsane                           1676 2015        70              \n",
              "4 A. Morin Akata                            1680 2015        70              \n",
              "5 A. Morin Quilla                           1704 2015        70              \n",
              "6 A. Morin Carenero                         1315 2014        70              \n",
              "  Company_Location Rating Broad_Bean_Origin\n",
              "1 France           3.75   Sao Tome         \n",
              "2 France           2.75   Togo             \n",
              "3 France           3.00   Togo             \n",
              "4 France           3.50   Togo             \n",
              "5 France           3.50   Peru             \n",
              "6 France           2.75   Venezuela        "
            ]
          },
          "metadata": {}
        }
      ]
    },
    {
      "cell_type": "markdown",
      "source": [
        "Dodaj do ramki danych nową kolumnę, która będzie zawierała informajce czy dana czekolada jest gorzka czy nie? W tym celu wykorzystaj zmienną Cocoa_Percentage."
      ],
      "metadata": {
        "id": "4nk6NV--CbAG"
      }
    },
    {
      "cell_type": "code",
      "source": [
        "df2_clean <- df2 %>%\n",
        "  mutate(is_bitter = ifelse(Cocoa_Percentage >= 70, \"Yes\", \"No\"))\n",
        "\n",
        "head(df2_clean)"
      ],
      "metadata": {
        "id": "S4yAXhvqFaUg",
        "outputId": "6d7c8294-c081-4945-87de-71714184b821",
        "colab": {
          "base_uri": "https://localhost:8080/",
          "height": 306
        }
      },
      "execution_count": 28,
      "outputs": [
        {
          "output_type": "display_data",
          "data": {
            "text/html": [
              "<table class=\"dataframe\">\n",
              "<caption>A data.frame: 6 × 10</caption>\n",
              "<thead>\n",
              "\t<tr><th></th><th scope=col>Company</th><th scope=col>Specific_Bean_Origin_or_Bar_Name</th><th scope=col>REF</th><th scope=col>Review_Date</th><th scope=col>Cocoa_Percentage</th><th scope=col>Company_Location</th><th scope=col>Rating</th><th scope=col>Bean_Type</th><th scope=col>Broad_Bean_Origin</th><th scope=col>is_bitter</th></tr>\n",
              "\t<tr><th></th><th scope=col>&lt;chr&gt;</th><th scope=col>&lt;chr&gt;</th><th scope=col>&lt;int&gt;</th><th scope=col>&lt;int&gt;</th><th scope=col>&lt;dbl&gt;</th><th scope=col>&lt;chr&gt;</th><th scope=col>&lt;dbl&gt;</th><th scope=col>&lt;chr&gt;</th><th scope=col>&lt;chr&gt;</th><th scope=col>&lt;chr&gt;</th></tr>\n",
              "</thead>\n",
              "<tbody>\n",
              "\t<tr><th scope=row>1</th><td>A. Morin</td><td>Agua Grande</td><td>1876</td><td>2016</td><td>63</td><td>France</td><td>3.75</td><td>NA     </td><td>Sao Tome </td><td>No </td></tr>\n",
              "\t<tr><th scope=row>2</th><td>A. Morin</td><td>Kpime      </td><td>1676</td><td>2015</td><td>70</td><td>France</td><td>2.75</td><td>NA     </td><td>Togo     </td><td>Yes</td></tr>\n",
              "\t<tr><th scope=row>3</th><td>A. Morin</td><td>Atsane     </td><td>1676</td><td>2015</td><td>70</td><td>France</td><td>3.00</td><td>NA     </td><td>Togo     </td><td>Yes</td></tr>\n",
              "\t<tr><th scope=row>4</th><td>A. Morin</td><td>Akata      </td><td>1680</td><td>2015</td><td>70</td><td>France</td><td>3.50</td><td>NA     </td><td>Togo     </td><td>Yes</td></tr>\n",
              "\t<tr><th scope=row>5</th><td>A. Morin</td><td>Quilla     </td><td>1704</td><td>2015</td><td>70</td><td>France</td><td>3.50</td><td>NA     </td><td>Peru     </td><td>Yes</td></tr>\n",
              "\t<tr><th scope=row>6</th><td>A. Morin</td><td>Carenero   </td><td>1315</td><td>2014</td><td>70</td><td>France</td><td>2.75</td><td>Criollo</td><td>Venezuela</td><td>Yes</td></tr>\n",
              "</tbody>\n",
              "</table>\n"
            ],
            "text/markdown": "\nA data.frame: 6 × 10\n\n| <!--/--> | Company &lt;chr&gt; | Specific_Bean_Origin_or_Bar_Name &lt;chr&gt; | REF &lt;int&gt; | Review_Date &lt;int&gt; | Cocoa_Percentage &lt;dbl&gt; | Company_Location &lt;chr&gt; | Rating &lt;dbl&gt; | Bean_Type &lt;chr&gt; | Broad_Bean_Origin &lt;chr&gt; | is_bitter &lt;chr&gt; |\n|---|---|---|---|---|---|---|---|---|---|---|\n| 1 | A. Morin | Agua Grande | 1876 | 2016 | 63 | France | 3.75 | NA      | Sao Tome  | No  |\n| 2 | A. Morin | Kpime       | 1676 | 2015 | 70 | France | 2.75 | NA      | Togo      | Yes |\n| 3 | A. Morin | Atsane      | 1676 | 2015 | 70 | France | 3.00 | NA      | Togo      | Yes |\n| 4 | A. Morin | Akata       | 1680 | 2015 | 70 | France | 3.50 | NA      | Togo      | Yes |\n| 5 | A. Morin | Quilla      | 1704 | 2015 | 70 | France | 3.50 | NA      | Peru      | Yes |\n| 6 | A. Morin | Carenero    | 1315 | 2014 | 70 | France | 2.75 | Criollo | Venezuela | Yes |\n\n",
            "text/latex": "A data.frame: 6 × 10\n\\begin{tabular}{r|llllllllll}\n  & Company & Specific\\_Bean\\_Origin\\_or\\_Bar\\_Name & REF & Review\\_Date & Cocoa\\_Percentage & Company\\_Location & Rating & Bean\\_Type & Broad\\_Bean\\_Origin & is\\_bitter\\\\\n  & <chr> & <chr> & <int> & <int> & <dbl> & <chr> & <dbl> & <chr> & <chr> & <chr>\\\\\n\\hline\n\t1 & A. Morin & Agua Grande & 1876 & 2016 & 63 & France & 3.75 & NA      & Sao Tome  & No \\\\\n\t2 & A. Morin & Kpime       & 1676 & 2015 & 70 & France & 2.75 & NA      & Togo      & Yes\\\\\n\t3 & A. Morin & Atsane      & 1676 & 2015 & 70 & France & 3.00 & NA      & Togo      & Yes\\\\\n\t4 & A. Morin & Akata       & 1680 & 2015 & 70 & France & 3.50 & NA      & Togo      & Yes\\\\\n\t5 & A. Morin & Quilla      & 1704 & 2015 & 70 & France & 3.50 & NA      & Peru      & Yes\\\\\n\t6 & A. Morin & Carenero    & 1315 & 2014 & 70 & France & 2.75 & Criollo & Venezuela & Yes\\\\\n\\end{tabular}\n",
            "text/plain": [
              "  Company  Specific_Bean_Origin_or_Bar_Name REF  Review_Date Cocoa_Percentage\n",
              "1 A. Morin Agua Grande                      1876 2016        63              \n",
              "2 A. Morin Kpime                            1676 2015        70              \n",
              "3 A. Morin Atsane                           1676 2015        70              \n",
              "4 A. Morin Akata                            1680 2015        70              \n",
              "5 A. Morin Quilla                           1704 2015        70              \n",
              "6 A. Morin Carenero                         1315 2014        70              \n",
              "  Company_Location Rating Bean_Type Broad_Bean_Origin is_bitter\n",
              "1 France           3.75   NA        Sao Tome          No       \n",
              "2 France           2.75   NA        Togo              Yes      \n",
              "3 France           3.00   NA        Togo              Yes      \n",
              "4 France           3.50   NA        Togo              Yes      \n",
              "5 France           3.50   NA        Peru              Yes      \n",
              "6 France           2.75   Criollo   Venezuela         Yes      "
            ]
          },
          "metadata": {}
        }
      ]
    },
    {
      "cell_type": "markdown",
      "source": [
        "## Zapisywanie plików"
      ],
      "metadata": {
        "id": "PV-xtco3J4JG"
      }
    },
    {
      "cell_type": "markdown",
      "source": [
        "Wyczyszczoną ramkę danych zapisz do pliku csv o nazw new_cocoa_imie_nazwisko.csv. Pobierz plik na dysk i dołącz do zadania na upel razem z plikiem zaiwerającym wszystkie przeprowadzone analizy (R_Zadanie_1_imię_nazwisko.jpynb)"
      ],
      "metadata": {
        "id": "OHMjXpsqIP3j"
      }
    },
    {
      "cell_type": "code",
      "source": [
        "# Zapisanie wyczyszczonych danych do pliku CSV\n",
        "write.csv(df2_clean, file = \"new_cocoa_karolina_kurowska.csv\", row.names = FALSE)"
      ],
      "metadata": {
        "id": "BdaaQ-62F2Fx"
      },
      "execution_count": 30,
      "outputs": []
    }
  ]
}