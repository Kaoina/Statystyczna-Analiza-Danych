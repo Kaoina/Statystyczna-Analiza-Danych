{
  "nbformat": 4,
  "nbformat_minor": 0,
  "metadata": {
    "colab": {
      "provenance": [],
      "toc_visible": true
    },
    "kernelspec": {
      "name": "python3",
      "display_name": "Python 3"
    },
    "language_info": {
      "name": "python"
    }
  },
  "cells": [
    {
      "cell_type": "code",
      "source": [
        "# importowanie stats z modułu scipy - korzystasz z funkcji statystycznych dostępnych w bibliotece SciPy\n",
        "from scipy import stats"
      ],
      "metadata": {
        "id": "prOLdqWkm1XL"
      },
      "execution_count": null,
      "outputs": []
    },
    {
      "cell_type": "markdown",
      "source": [
        "**Zadanie 1**\\\n",
        "W Polsce reakcję alergiczną wywołują najczęściej pyłki traw. Przeprowadzono badania stężenia\n",
        "pyłków traw — odbyły się one w lipcu, o godzinie 9 rano, na wysokości 1,5 m w 25 punktach\n",
        "pewnej miejscowości. Przyjmuje się, że niskie stężenie pyłków nie przekracza 20 pyłków/m3,\n",
        "stężenie średnie zawarte jest w przedziale 21 – 50 pyłków/m3, stężenie wysokie to 51 – 100\n",
        "pyłków/m3, a stężenie bardzo wysokie to ponad 100 pyłków/m3. Wyniki badań zawiera\n",
        "poniższa tabela:\n",
        "![tblea.png](data:image/png;base64,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)\n",
        "Zakładając normalność rozkładu, czy na podstawie tej próby i na poziomie istotności\n",
        "α = 0,05 można twierdzić, że stężenie pyłków traw w tej miejscowości w lipcu należy do niskich?\n"
      ],
      "metadata": {
        "id": "wRjAbLqv8LbV"
      }
    },
    {
      "cell_type": "markdown",
      "source": [
        "## 1. Sformułowanie hipotez\n"
      ],
      "metadata": {
        "id": "bGfHgWn8QvK4"
      }
    },
    {
      "cell_type": "markdown",
      "source": [
        "H0: μ<=20 (stężenie pyłków traw w tej miejscowości należy do niskich)\\\n",
        "H1: μ>20 (stężenie pyłków traw w tej miejscowości nie jest niskie)"
      ],
      "metadata": {
        "id": "rYCJLA39uobj"
      }
    },
    {
      "cell_type": "markdown",
      "source": [
        "## 2. Wybór testu statystycznego\n",
        "- Test parametryczny - wartość przeciętna\n",
        "- Pojedyncza próba\n",
        "- Skala ilorazowa\n",
        "\n",
        "-> Test T"
      ],
      "metadata": {
        "id": "iI4rtZKNROMM"
      }
    },
    {
      "cell_type": "markdown",
      "source": [
        "## 3. Poziom istotności  \n",
        "α=0,05\n"
      ],
      "metadata": {
        "id": "PsIVscMbRkHk"
      }
    },
    {
      "cell_type": "markdown",
      "source": [
        "## 4. Obliczenie statystyki testowej i p-value oraz podjęcie decyzji weryfikacyjnej"
      ],
      "metadata": {
        "id": "g43SXNcLRrT2"
      }
    },
    {
      "cell_type": "code",
      "source": [
        "# Stężenie pyłków\n",
        "stezenie = [ 19, 21, 23, 25, 19, 17, 12, 16, 21, 25, 24, 22, 30, 26, 22, 19, 24, 22, 18, 23, 27, 22, 19, 25, 22]\n",
        "\n",
        "# Wartość oczekiwana\n",
        "mu = 20\n",
        "\n",
        "# Przeprowadź test t-studenta\n",
        "statystyka_T, p_wartosc = stats.ttest_1samp(stezenie, mu, alternative=\"greater\")\n",
        "\n",
        "# Wyświetl wyniki\n",
        "print(\"Statystyka testowa:\", statystyka_T)\n",
        "print(\"P-wartość:\", p_wartosc)\n",
        "\n",
        "# Sprawdź istotność statystyczną na poziomie alfa = 0.05\n",
        "alfa = 0.05\n",
        "if p_wartosc < alfa:\n",
        "    print(\"Odrzucamy hipotezę zerową - stężenie pyłków nie jest niskie.\")\n",
        "else:\n",
        "    print(\"Nie ma podstaw do odrzucenia hipotezy zerowej - stężenie pyłków jest niskie.\")"
      ],
      "metadata": {
        "colab": {
          "base_uri": "https://localhost:8080/"
        },
        "id": "jIgsGlOtubUY",
        "outputId": "ca3f0c17-fbfc-4d8a-b8ed-3ae395da54ad"
      },
      "execution_count": null,
      "outputs": [
        {
          "output_type": "stream",
          "name": "stdout",
          "text": [
            "Statystyka testowa: 2.235967206054797\n",
            "P-wartość: 0.01745760487186837\n",
            "Odrzucamy hipotezę zerową - stężenie pyłków nie jest niskie.\n"
          ]
        }
      ]
    },
    {
      "cell_type": "markdown",
      "source": [
        "Z otrzymanego wydruku możemy odczytać m.in.  wartość statystyki testowej (t = 2.23596) oraz  p-wartość = 0.017457. \\"
      ],
      "metadata": {
        "id": "iIhOFZNZR__1"
      }
    },
    {
      "cell_type": "markdown",
      "source": [
        "## 5. Wnioski:\n",
        "Wartość p jest mniejsza od przyjętego alfa, więc odrzucamy hipotezę zerową. Stężenie pyłków traw w tej miejscowości nie jest niskie."
      ],
      "metadata": {
        "id": "jgzGegucSGXy"
      }
    },
    {
      "cell_type": "markdown",
      "source": [
        "**Zadanie 2**"
      ],
      "metadata": {
        "id": "BiYS5GZUdnpI"
      }
    },
    {
      "cell_type": "markdown",
      "source": [
        "W celu zmniejszenia zużycia paliwa Komisja Doradcza Przewozów Morskich zleciła\n",
        "kompaniom dalekomorskim zredukowanie prędkości statków do 17 węzłów. Jedna z\n",
        "kompanii, której statki pływają z reguły z prędkością od 18,5 do 19,8 węzłów przy dziennym\n",
        "średnim zużyciu paliwa w wysokości 127,7 t, sprawdziła rejestr rejsów i odnalazła 5 takich\n",
        "rejsów, dla których średnia prędkość wynosiła zaledwie 17 węzłów. Dzienne zużycie paliwa w\n",
        "czasie tych rejsów wynosiło: 101,1; 105,7; 102,6; 113,4; 98,1 t. Zakładając, że dzienne\n",
        "zużycie paliwa ma rozkład normalny, czy dane te potwierdzają słuszność Komisji, że obniżenie\n",
        "prędkości do 17 węzłów zmniejszy zużycie paliwa poniżej 127,7, przy poziomie istotności\n",
        "0,01?\n",
        "\n"
      ],
      "metadata": {
        "id": "mxWdphpsdnpJ"
      }
    },
    {
      "cell_type": "markdown",
      "source": [
        "## 1. Sformułowanie hipotez\n"
      ],
      "metadata": {
        "id": "fiELNUZpdnpK"
      }
    },
    {
      "cell_type": "markdown",
      "source": [
        "H0 (μ>=127.7): Obniżenie prędkości do 17 węzłów nie zmniejszy zużycia paliwa poniżej 127,7 t.\n",
        "\n",
        "H1: (μ<127.7): Obniżenie prędkości do 17 węzłów zmniejszy zużycie paliwa poniżej 127,7 t."
      ],
      "metadata": {
        "id": "2YSSrRVUdnpK"
      }
    },
    {
      "cell_type": "markdown",
      "source": [
        "## 2. Wybór testu statystycznego\n",
        "- Test parametryczny - wartość przeciętna\n",
        "- Podwójna próba\n",
        "- Skala ilorazowa\n",
        "\n",
        "-> Test T"
      ],
      "metadata": {
        "id": "DxRO1xCBdnpK"
      }
    },
    {
      "cell_type": "markdown",
      "source": [
        "## 3. Poziom istotności  \n",
        "α=0,01\n"
      ],
      "metadata": {
        "id": "joMo96_GdnpL"
      }
    },
    {
      "cell_type": "markdown",
      "source": [
        "## 4. Obliczenie statystyki testowej i p-value oraz podjęcie decyzji weryfikacyjnej"
      ],
      "metadata": {
        "id": "gxXX0fQIdnpL"
      }
    },
    {
      "cell_type": "code",
      "source": [
        "# Zużycie paliwa\n",
        "zuzycie_paliwa = [101.1, 105.7, 102.6, 113.4, 98.1]\n",
        "# Wartość oczekiwana\n",
        "mu = 127.7\n",
        "\n",
        "# Przeprowadź test t-studenta\n",
        "statystyka_T, wartosc_p = stats.ttest_1samp(zuzycie_paliwa, mu, alternative = \"less\")\n",
        "\n",
        "# Wyświetl wyniki\n",
        "print(\"Statystyka testowa:\", statystyka_T)\n",
        "print(\"Wartość p:\", wartosc_p)\n",
        "\n",
        "# Sprawdź istotność statystyczną na poziomie alfa = 0.01\n",
        "alfa = 0.01\n",
        "if wartosc_p < alfa:\n",
        "    print(\"Odrzucamy hipotezę zerową - obniżenie prędkości do 17 węzłów zmniejszy zużycie paliwa poniżej 127,7.\")\n",
        "else:\n",
        "    print(\"Nie ma podstaw do odrzucenia hipotezy zerowej - obniżenie prędkości do 17 węzłów nie zmniejszy zużycia paliwa poniżej 127,7.\")"
      ],
      "metadata": {
        "colab": {
          "base_uri": "https://localhost:8080/"
        },
        "outputId": "489dd6e8-e7c7-4210-f175-39a2f8596843",
        "id": "TX0LTrSYdnpL"
      },
      "execution_count": null,
      "outputs": [
        {
          "output_type": "stream",
          "name": "stdout",
          "text": [
            "Statystyka testowa: -9.010634513141104\n",
            "Wartość p: 0.00042000583374171395\n",
            "Odrzucamy hipotezę zerową - obniżenie prędkości do 17 węzłów zmniejszy zużycie paliwa poniżej 127,7.\n"
          ]
        }
      ]
    },
    {
      "cell_type": "markdown",
      "source": [
        "Z otrzymanego wydruku możemy odczytać m.in.  wartość statystyki\n",
        "testowej (t = -9.010634) oraz  p-wartość = 0.00042. \\"
      ],
      "metadata": {
        "id": "MDkjnlEmdnpM"
      }
    },
    {
      "cell_type": "markdown",
      "source": [
        "## 5. Wnioski:\n",
        "Wartość p jest mniejsza od przyjętego alfa, więc odrzucamy hipotezę zerową. Komisja ma słuszność."
      ],
      "metadata": {
        "id": "1fqJP14pdnpM"
      }
    },
    {
      "cell_type": "markdown",
      "source": [
        "**Zadanie 3**\\\n",
        "Dokonano 52 pomiarów zanieczyszczenia gleby ołowiem (w mg/kg suchej masy gleby),\n",
        "otrzymane wyniki zapisano w tabeli:\n",
        "![image.png](data:image/png;base64,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)\n",
        "Sprawdź, czy na poziomie istotności 𝛼 = 0,05 zanieczyszczenie gleby ołowiem ma rozkład\n",
        "normalny."
      ],
      "metadata": {
        "id": "kizkUDmXAW0z"
      }
    },
    {
      "cell_type": "markdown",
      "source": [
        "## 1. Sformułowanie hipotez"
      ],
      "metadata": {
        "id": "8H7d4RerDKz7"
      }
    },
    {
      "cell_type": "markdown",
      "source": [
        "H0: rozkład jest normalny\n",
        "\n",
        "H1: rozkład nie jest normalny"
      ],
      "metadata": {
        "id": "-1_ZN0_cDOuK"
      }
    },
    {
      "cell_type": "markdown",
      "source": [
        "## 2. Wybór testu statystycznego\n",
        "Test nieparametryczny - test zgodności Shapiro-Wilka\\\n",
        "Pojedyncza próba;\\\n",
        " Skala ilorazowa;"
      ],
      "metadata": {
        "id": "9NJOlBOTDaQE"
      }
    },
    {
      "cell_type": "markdown",
      "source": [
        "## 3. Poziom istotności  \n",
        "Poziom istotności: α=0,05"
      ],
      "metadata": {
        "id": "uXbyR8tLDkej"
      }
    },
    {
      "cell_type": "markdown",
      "source": [
        "## 4. Obliczenie statystyki testowej i p-value oraz podjęcie decyzji weryfikacyjnej"
      ],
      "metadata": {
        "id": "IatZxQDyEHMT"
      }
    },
    {
      "cell_type": "code",
      "source": [
        "# Zanieczyszczenie\n",
        "zanieczyszczenie = [59, 60, 62, 58, 59, 61, 65, 67, 65, 65, 62, 65, 67, 69, 64, 65, 66, 67, 64, 66, 68, 64, 63, 64, 67, 69, 62, 64, 67, 68, 69, 61, 62, 69, 63, 65, 60, 60, 65, 63, 70, 68, 67, 71, 61, 64, 63, 66, 62, 64, 66, 69]\n",
        "\n",
        "# Przeprowadź test shapiro\n",
        "statystyka_T, wartosc_p = stats.shapiro(zanieczyszczenie)\n",
        "\n",
        "# Wyświetl wyniki\n",
        "print(\"Statystyka testowa:\", statystyka_T)\n",
        "print(\"Wartość p:\", wartosc_p)\n",
        "\n",
        "# Sprawdź istotność statystyczną na poziomie alfa = 0.05\n",
        "alfa = 0.05\n",
        "if wartosc_p < alfa:\n",
        "    print(\"Odrzucamy hipotezę zerową - rozkład nie jest normalny.\")\n",
        "else:\n",
        "    print(\"Nie ma podstaw do odrzucenia hipotezy zerowej - rozkład jest normalny.\")"
      ],
      "metadata": {
        "id": "I6PwH-aCEFhi",
        "colab": {
          "base_uri": "https://localhost:8080/"
        },
        "outputId": "bae5d437-faac-4214-91f9-dfdd16d23b36"
      },
      "execution_count": null,
      "outputs": [
        {
          "output_type": "stream",
          "name": "stdout",
          "text": [
            "Statystyka testowa: 0.9793963432312012\n",
            "Wartość p: 0.5004885792732239\n",
            "Nie ma podstaw do odrzucenia hipotezy zerowej - rozkład jest normalny.\n"
          ]
        }
      ]
    },
    {
      "cell_type": "markdown",
      "source": [
        "Z otrzymanego wydruku możemy odczytać m.in.  wartość statystyki\n",
        "testowej (t = 0.979396) oraz wartość p = 0.500488. \\"
      ],
      "metadata": {
        "id": "aoKJzEghFt_N"
      }
    },
    {
      "cell_type": "markdown",
      "source": [
        "## 5. Wnioski:\n",
        "Wartość p jest większa od przyjętego alfa, więc nie ma podstaw do odrzucenia hipotezy zerowej.Rozkład jest normalany."
      ],
      "metadata": {
        "id": "a8tG_mT_EN3C"
      }
    },
    {
      "cell_type": "markdown",
      "source": [
        "**Zadanie 4**\\\n",
        "Dane przedstawiają emisję zanieczyszczeń powietrza pyłami polimerów (w t) pochodzącymi\n",
        "z kilku zakładów szczególnie uciążliwych dla wybranego województwa: w roku I oraz\n",
        "5 lat później, w roku II.\\\n",
        "Rok I 220 185 270 285 200 295 255 190 225 230\\\n",
        "Rok II 190 175 215 260 215 195 260 150 155 175\\\n",
        "Na poziomie istotności 0,05 należy zweryfikować hipotezę, że nastąpił istotny spadek emisji\n",
        "pyłów w tych zakładach."
      ],
      "metadata": {
        "id": "YbTH2Ca4G4_t"
      }
    },
    {
      "cell_type": "markdown",
      "source": [
        "## 1. Sformułowanie hipotez\n",
        "\n",
        "H0: (μ_1 = μ_2): nie nastapił spadek emisji.\n",
        "\n",
        "H1: (μ_1>μ_2): nastąpił spadek emisji\n",
        "\n",
        "## 2. Wybór testu -\n",
        "Test parametryczny - wartość przeciętna;\\\n",
        "Podwójna próba;\\\n",
        "Skala ilorazowa;\\\n",
        "-> Test T\n",
        "\n",
        "## 3. Poziom istotności:\n",
        "α=0,05"
      ],
      "metadata": {
        "id": "onOmYrLFI8hI"
      }
    },
    {
      "cell_type": "markdown",
      "source": [
        "## 4. Obliczenie statystyki testowej i p-value oraz podjęcie decyzji weryfikacyjnej"
      ],
      "metadata": {
        "id": "QBBJq8iwJS1G"
      }
    },
    {
      "cell_type": "code",
      "source": [
        "#Wyniki przed badaniem\n",
        "wyniki_przed = [220, 185, 270, 285, 200, 295, 255, 190, 225, 230]\n",
        "\n",
        "#Wyniki po badaniu\n",
        "wyniki_po = [190, 175, 215, 260, 215, 195, 260, 150, 155, 175]\n",
        "\n",
        "#Poziom istotności\n",
        "alfa = 0.05\n",
        "\n",
        "#Przeprowadzenie testu t dla dwóch powiązanych próbek\n",
        "t_statistic, wartosc_p = stats.ttest_rel(wyniki_przed, wyniki_po, alternative='greater')\n",
        "\n",
        "#Wyświetlenie wyników testu\n",
        "print(\"Statystyka t:\", t_statistic)\n",
        "print(\"Wartość p:\", wartosc_p)\n",
        "\n",
        "\n",
        "#Sprawdzenie warunku na istotność statystyczną\n",
        "if wartosc_p < alfa:\n",
        "    print(\"Odrzucamy hipotezę zerową - nastapił spadek emisji.\")\n",
        "else:\n",
        "    print(\"Nie ma podstaw do odrzucenia hipotezy zerowej - nie nastąpił spadek emisji.\")"
      ],
      "metadata": {
        "colab": {
          "base_uri": "https://localhost:8080/"
        },
        "id": "2JWzKl0eJRg_",
        "outputId": "30afe161-e16c-4e8b-a906-c3277ec6a4a4"
      },
      "execution_count": 7,
      "outputs": [
        {
          "output_type": "stream",
          "name": "stdout",
          "text": [
            "Statystyka t: 3.286273677873095\n",
            "Wartość p: 0.004717146628580168\n",
            "Odrzucamy hipotezę zerową - nastapił spadek emisji.\n"
          ]
        }
      ]
    },
    {
      "cell_type": "markdown",
      "source": [
        "Z otrzymanego wydruku możemy odczytać m.in.  wartość statystyki\n",
        "testowej (t = 3.28627) oraz wartość p = 0.00471 \\"
      ],
      "metadata": {
        "id": "uz3MG0QfJc7G"
      }
    },
    {
      "cell_type": "markdown",
      "source": [
        "## 5. Wnioski:\n",
        "Wartość p jest mniejsza od przyjętej wartości alfa, więc odrzucamy hipotezę zerową. Nastąpił spadek emisji."
      ],
      "metadata": {
        "id": "TfTru0KmJiIG"
      }
    }
  ]
}